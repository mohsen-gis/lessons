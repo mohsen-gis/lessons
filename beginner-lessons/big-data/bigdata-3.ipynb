{
 "cells": [
  {
   "cell_type": "code",
   "execution_count": null,
   "id": "ae931295",
   "metadata": {
    "hide_input": true,
    "init_cell": true,
    "slideshow": {
     "slide_type": "skip"
    },
    "tags": [
     "Hide"
    ]
   },
   "outputs": [],
   "source": [
    "# This code cell starts the necessary setup for Hour of CI lesson notebooks.\n",
    "# First, it enables users to hide and unhide code by producing a 'Toggle raw code' button below.\n",
    "# Second, it imports the hourofci package, which is necessary for lessons and interactive Jupyter Widgets.\n",
    "# Third, it helps hide/control other aspects of Jupyter Notebooks to improve the user experience\n",
    "# This is an initialization cell\n",
    "# It is not displayed because the Slide Type is 'Skip'\n",
    "\n",
    "from IPython.display import HTML, IFrame, Javascript, display\n",
    "from ipywidgets import interactive\n",
    "import ipywidgets as widgets\n",
    "from ipywidgets import Layout\n",
    "\n",
    "import getpass # This library allows us to get the username (User agent string)\n",
    "\n",
    "# import package for hourofci project\n",
    "import sys\n",
    "sys.path.append('../../supplementary') # relative path (may change depending on the location of the lesson notebook)\n",
    "import hourofci\n",
    "\n",
    "\n",
    "# load javascript to initialize/hide cells, get user agent string, and hide output indicator\n",
    "# hide code by introducing a toggle button \"Toggle raw code\"\n",
    "HTML(''' \n",
    "    <script type=\"text/javascript\" src=\\\"../../supplementary/js/custom.js\\\"></script>\n",
    "    \n",
    "    <style>\n",
    "        .output_prompt{opacity:0;}\n",
    "    </style>\n",
    "    \n",
    "    <input id=\"toggle_code\" type=\"button\" value=\"Toggle raw code\">\n",
    "''')"
   ]
  },
  {
   "cell_type": "markdown",
   "id": "d0685420",
   "metadata": {
    "slideshow": {
     "slide_type": "slide"
    }
   },
   "source": [
    "## Big Data\n",
    "\n",
    "### Part 2 of 5\n",
    "# Show Me the Data!!\n",
    "\n",
    "## The Pandas module\n",
    "Pandas is a python package that is very useful to read and process data. This notebook will show you how to: \n",
    "- Import the Pandas module\n",
    "- Pandas data structures (e.g. series, dictionary and dataframe)\n",
    "- Import data\n",
    "- Calculate data"
   ]
  },
  {
   "cell_type": "markdown",
   "id": "0d4edfb8",
   "metadata": {
    "slideshow": {
     "slide_type": "slide"
    }
   },
   "source": [
    "## Reminder\n",
    "<a href=\"#/slide-2-0\" class=\"navigate-right\" style=\"background-color:blue;color:white;padding:8px;margin:2px;font-weight:bold;\">Continue with the lesson</a>\n",
    "\n",
    "<br>\n",
    "</br>\n",
    "<font size=\"+1\">\n",
    "\n",
    "By continuing with this lesson you are granting your permission to take part in this research study for the Hour of Cyberinfrastructure: Developing Cyber Literacy for GIScience project. In this study, you will be learning about cyberinfrastructure and related concepts using a web-based platform that will take approximately one hour per lesson. Participation in this study is voluntary.\n",
    "\n",
    "Participants in this research must be 18 years or older. If you are under the age of 18 then please exit this webpage or navigate to another website such as the Hour of Code at https://hourofcode.com, which is designed for K-12 students.\n",
    "\n",
    "If you are not interested in participating please exit the browser or navigate to this website: http://www.umn.edu. Your participation is voluntary and you are free to stop the lesson at any time.\n",
    "\n",
    "For the full description please navigate to this website: <a href=\"../../gateway-lesson/gateway/gateway-1.ipynb\">Gateway Lesson Research Study Permission</a>.\n",
    "\n",
    "</font>"
   ]
  },
  {
   "cell_type": "code",
   "execution_count": null,
   "id": "f7fac588",
   "metadata": {
    "slideshow": {
     "slide_type": "slide"
    }
   },
   "outputs": [],
   "source": [
    "# Import the Pandas Module\n",
    "import pandas as pd\n",
    "pd.__version__"
   ]
  },
  {
   "cell_type": "markdown",
   "id": "2fef903f",
   "metadata": {
    "slideshow": {
     "slide_type": "slide"
    }
   },
   "source": [
    "### Series\n",
    "A Series is a one-dimensional array of indexed data (think a series of data if you will). A Series object contains a sequence of values and associated index (i.e. the order of those values starts with 0). We can use the Series object to store some data. "
   ]
  },
  {
   "cell_type": "code",
   "execution_count": null,
   "id": "c83eadaa",
   "metadata": {
    "slideshow": {
     "slide_type": "-"
    }
   },
   "outputs": [],
   "source": [
    "# Create Series from an array\n",
    "data1 = [1,2,3,6,7]\n",
    "s1 = pd.Series(data1)\n",
    "print('Values in series s1:', s1.values)\n",
    "print('The 4th value of s1:', s1[3])"
   ]
  },
  {
   "cell_type": "markdown",
   "id": "022f9217",
   "metadata": {
    "slideshow": {
     "slide_type": "slide"
    }
   },
   "source": [
    "### Dictionary\n",
    "Instead of a regular index, it is also possible to use a dictionary that uses a label-value structure for each item in the series. In the example below, we will create a population series with a label to store the state name and a value to store its population. "
   ]
  },
  {
   "cell_type": "code",
   "execution_count": null,
   "id": "1542f0d0",
   "metadata": {
    "slideshow": {
     "slide_type": "-"
    }
   },
   "outputs": [],
   "source": [
    "# Create Population series from a dictionary\n",
    "pop_data = {'CA': 39.5,'TX': 29,'NY': 8.39,'FL': 21.48,\n",
    "            'IL': 12.67}\n",
    "population = pd.Series(pop_data)\n",
    "population"
   ]
  },
  {
   "cell_type": "markdown",
   "id": "a47ab8b3",
   "metadata": {
    "slideshow": {
     "slide_type": "slide"
    }
   },
   "source": [
    "Similarly, we can create an area series."
   ]
  },
  {
   "cell_type": "code",
   "execution_count": null,
   "id": "f302ff13",
   "metadata": {
    "slideshow": {
     "slide_type": "-"
    }
   },
   "outputs": [],
   "source": [
    "# Create Area series\n",
    "area_data = {'CA': 155779.22, 'TX': 261231.71, 'NY': 47126.40,\n",
    "             'FL': 53624.76, 'IL': 55518.93}\n",
    "area = pd.Series(area_data)\n",
    "area"
   ]
  },
  {
   "cell_type": "markdown",
   "id": "b06a8857",
   "metadata": {
    "slideshow": {
     "slide_type": "slide"
    }
   },
   "source": [
    "### DataFrame\n",
    "A DataFrame represents a rectangular table of data and contains an ordered collection of columns. You can think of it as a spreadsheet or SQL table where each column has a column name for reference and each row can be accessed by using row numbers. Column names and row numbers are known as column and row index.\n",
    "\n",
    "DataFrame is a fundamental Pandas data structure in which each column can be of a different value type (numeric, string, boolean, etc.). A data set can be first read into a DataFrame and then various operations (i.e. indexing, grouping, aggregation etc.) can be easily applied to it."
   ]
  },
  {
   "cell_type": "code",
   "execution_count": null,
   "id": "d9adb923",
   "metadata": {
    "slideshow": {
     "slide_type": "-"
    }
   },
   "outputs": [],
   "source": [
    "# Create DataFrame from dictionary of Series\n",
    "df2 = pd.DataFrame({'population':population,\n",
    "                   'land area':area})\n",
    "df2['drought'] = ['Yes','Yes','No','Yes','No']\n",
    "df2"
   ]
  },
  {
   "cell_type": "markdown",
   "id": "67286a68",
   "metadata": {
    "slideshow": {
     "slide_type": "slide"
    }
   },
   "source": [
    "## Import Data\n",
    "### Read from a csv\n",
    "The read_csv() function can be used to read CSV (Comma-Separated Value) files. The function includes a number of different parameters and you can read more about them in the pandas documentation here.\n",
    "https://pandas.pydata.org/pandas-docs/stable/reference/api/pandas.read_csv.html"
   ]
  },
  {
   "cell_type": "code",
   "execution_count": null,
   "id": "217700b2",
   "metadata": {
    "slideshow": {
     "slide_type": "-"
    }
   },
   "outputs": [],
   "source": [
    "# Read the data from csv\n",
    "url = 'https://raw.githubusercontent.com/CSSEGISandData/COVID-19/master/csse_covid_19_data/csse_covid_19_daily_reports_us/05-24-2022.csv'\n",
    "df_csv = pd.read_csv(url)\n",
    "df = pd.DataFrame(df_csv)\n",
    "df"
   ]
  },
  {
   "cell_type": "markdown",
   "id": "0016e682",
   "metadata": {
    "slideshow": {
     "slide_type": "slide"
    }
   },
   "source": [
    "### Explore the JHU COVID-19 csv data\n",
    "Let's explore some big data out there. One data source is the JHU COVID-19 data portal: \n",
    "https://github.com/CSSEGISandData/COVID-19.\n",
    "In the example above, we read the csv data from the COVID-19 daily report in the US. \n",
    "\n",
    "**Can you find the URL to the COVID-19 daily report of countries around the world?** \n",
    "- You can pick any date in that folder (e.g. 01-01-2022.csv)\n",
    "- On the selected date of your choice, click the \"Raw\" tab in the csv (look at the right side)\n",
    "- You are on the **right** track if the csv looks messy on your browser\n",
    "- Click the address bar of your web browser, copy the URL (it should start with \"https://raw.githubusercontent.com...\")\n",
    "- In the cell below, paste the URL into the empty space between ''\n",
    "- Run the code"
   ]
  },
  {
   "cell_type": "code",
   "execution_count": null,
   "id": "c405ea9a",
   "metadata": {
    "slideshow": {
     "slide_type": "-"
    }
   },
   "outputs": [],
   "source": [
    "# Read the data from csv\n",
    "url = 'https://raw.githubusercontent.com/CSSEGISandData/COVID-19/master/csse_covid_19_data/csse_covid_19_daily_reports/01-01-2022.csv'\n",
    "df_csv = pd.read_csv(url)\n",
    "df2 = pd.DataFrame(df_csv)\n",
    "df2\n",
    "\n",
    "# example: https://raw.githubusercontent.com/CSSEGISandData/COVID-19/master/csse_covid_19_data/csse_covid_19_daily_reports/01-01-2022.csv"
   ]
  },
  {
   "cell_type": "markdown",
   "id": "555a6265",
   "metadata": {
    "slideshow": {
     "slide_type": "slide"
    }
   },
   "source": [
    "## Calculate Data\n",
    "Examine the US daily report of COVID-19 data, note the two fields documenting the incident rate and testing rate.\n",
    "What are the field names?\n",
    "Hypothetically, one can explore the effectiveness of COVID-19 testing by dividing the incident rate by testing rate, so that:\n",
    "** Effectiveness of Testing = Incident Rate / Testing Rate **\n",
    "Run the code below to calculate the above equation into a new field called \"Eff_Testing\"."
   ]
  },
  {
   "cell_type": "code",
   "execution_count": null,
   "id": "9a211f1b",
   "metadata": {
    "slideshow": {
     "slide_type": "-"
    }
   },
   "outputs": [],
   "source": [
    "# Add column and calculate\n",
    "df['Eff_Testing'] = df['Incident_Rate']/df['Testing_Rate']\n",
    "df"
   ]
  },
  {
   "cell_type": "markdown",
   "id": "24871425",
   "metadata": {
    "slideshow": {
     "slide_type": "slide"
    }
   },
   "source": [
    "## Further Exploration ##\n",
    "### Congratulations!! This is IT!! ###\n",
    "You have done the following: \n",
    "- Learned about what big data is\n",
    "- The 'V's of big data and its relevance to their applications\n",
    "- Explore some big data on the Internet\n",
    "- Load COVID-19 data into a table using Pandas\n",
    "- Parse the data and calculate new columns \n",
    "\n",
    "Here are some pointers for further exploration: \n",
    "- Noticed that there are some calculation returns a value \"NaN\". What does that mean?\n",
    "- Explore more county level COVID-19 data from NY Times at: https://github.com/nytimes/covid-19-data\n",
    "- Load the mask use data: https://github.com/nytimes/covid-19-data/tree/master/mask-use\n",
    "\n",
    "If you are interested, feel free to check out the intermediate lesson. We will introduce more techniques to process, analyze and visualize the big data! "
   ]
  },
  {
   "cell_type": "markdown",
   "id": "d498329f",
   "metadata": {
    "slideshow": {
     "slide_type": "slide"
    }
   },
   "source": [
    "\n",
    "\n",
    "<font size=\"+1\"><a style=\"background-color:blue;color:white;padding:12px;margin:10px;font-weight:bold;\" \n",
    "href=\"bigdata-4.ipynb\">Click here to go to the next notebook.</a></font>"
   ]
  }
 ],
 "metadata": {
  "celltoolbar": "Slideshow",
  "kernelspec": {
   "display_name": "Python 3 (ipykernel)",
   "language": "python",
   "name": "python3"
  },
  "language_info": {
   "codemirror_mode": {
    "name": "ipython",
    "version": 3
   },
   "file_extension": ".py",
   "mimetype": "text/x-python",
   "name": "python",
   "nbconvert_exporter": "python",
   "pygments_lexer": "ipython3",
   "version": "3.9.5"
  },
  "rise": {
   "autolaunch": true,
   "overlay": "<div class='hciheader'></div><div class='hcifooter'></div>",
   "scroll": true
  }
 },
 "nbformat": 4,
 "nbformat_minor": 5
}
