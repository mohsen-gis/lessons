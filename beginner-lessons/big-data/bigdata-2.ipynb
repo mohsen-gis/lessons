{
 "cells": [
  {
   "cell_type": "code",
   "execution_count": null,
   "metadata": {
    "hide_input": true,
    "init_cell": true,
    "slideshow": {
     "slide_type": "skip"
    },
    "tags": [
     "Hide"
    ]
   },
   "outputs": [],
   "source": [
    "# This code cell starts the necessary setup for Hour of CI lesson notebooks.\n",
    "# First, it enables users to hide and unhide code by producing a 'Toggle raw code' button below.\n",
    "# Second, it imports the hourofci package, which is necessary for lessons and interactive Jupyter Widgets.\n",
    "# Third, it helps hide/control other aspects of Jupyter Notebooks to improve the user experience\n",
    "# This is an initialization cell\n",
    "# It is not displayed because the Slide Type is 'Skip'\n",
    "\n",
    "from IPython.display import HTML, IFrame, Javascript, display\n",
    "from ipywidgets import interactive\n",
    "import ipywidgets as widgets\n",
    "from ipywidgets import Layout\n",
    "\n",
    "import getpass # This library allows us to get the username (User agent string)\n",
    "\n",
    "# import package for hourofci project\n",
    "import sys\n",
    "sys.path.append('../../supplementary') # relative path (may change depending on the location of the lesson notebook)\n",
    "import hourofci\n",
    "\n",
    "import warnings\n",
    "warnings.filterwarnings('ignore') # Hide warnings\n",
    "\n",
    "# load javascript to initialize/hide cells, get user agent string, and hide output indicator\n",
    "# hide code by introducing a toggle button \"Toggle raw code\"\n",
    "# HTML(''' \n",
    "#     <script type=\"text/javascript\" src=\\\"../../supplementary/js/custom.js\\\"></script>\n",
    "    \n",
    "#     <input id=\"toggle_code\" type=\"button\" value=\"Toggle raw code\">\n",
    "# ''')\n",
    "\n",
    "HTML(''' \n",
    "    <script type=\"text/javascript\" src=\\\"../../supplementary/js/custom.js\\\"></script>\n",
    "    \n",
    "    <style>\n",
    "        .output_prompt{opacity:0;}\n",
    "    </style>\n",
    "    \n",
    "    <input id=\"toggle_code\" type=\"button\" value=\"Toggle raw code\">\n",
    "''')\n"
   ]
  },
  {
   "cell_type": "markdown",
   "metadata": {
    "hide_input": true,
    "slideshow": {
     "slide_type": "slide"
    }
   },
   "source": [
    "## Big Data - a Beginners' Lesson\n",
    "### Part 1 of 5\n",
    "### In this lesson, you will: \n",
    "*\tLearn about and explore big data\n",
    "*\tProcess and visualize big data\n",
    "\n",
    "## Lesson Outline:\n",
    "*\tWTH is Big Data?\n",
    "*\tThe ‘V’s of Big Data\n",
    "*\tShow Me the Data!\n",
    "*\tShow Me the Magic! (may overflow into the intermediate lesson)\n",
    "*\tShow me the $$!\n",
    "*\tShow me the Map(sss)!\n",
    "\n",
    "\n"
   ]
  },
  {
   "cell_type": "markdown",
   "metadata": {
    "slideshow": {
     "slide_type": "slide"
    }
   },
   "source": [
    "## Thank you for helping our study\n",
    "\n",
    "\n",
    "<a href=\"#/slide-1-0\" class=\"navigate-right\" style=\"background-color:blue;color:white;padding:8px;margin:2px;font-weight:bold;\">Continue with the lesson</a>\n",
    "\n",
    "Throughout this lesson you will see reminders, like the one below, to ensure that all participants understand that they are in a voluntary research study.\n",
    "\n",
    "### Reminder\n",
    "\n",
    "<font size=\"+1\">\n",
    "\n",
    "By continuing with this lesson you are granting your permission to take part in this research study for the Hour of Cyberinfrastructure: Developing Cyber Literacy for GIScience project. In this study, you will be learning about cyberinfrastructure and related concepts using a web-based platform that will take approximately one hour per lesson. Participation in this study is voluntary.\n",
    "\n",
    "Participants in this research must be 18 years or older. If you are under the age of 18 then please exit this webpage or navigate to another website such as the Hour of Code at https://hourofcode.com, which is designed for K-12 students.\n",
    "\n",
    "If you are not interested in participating please exit the browser or navigate to this website: http://www.umn.edu. Your participation is voluntary and you are free to stop the lesson at any time.\n",
    "\n",
    "For the full description please navigate to this website: <a href=\"../../gateway-lesson/gateway/gateway-1.ipynb\">Gateway Lesson Research Study Permission</a>.\n",
    "\n",
    "</font>"
   ]
  },
  {
   "cell_type": "markdown",
   "metadata": {
    "hide_input": true,
    "slideshow": {
     "slide_type": "slide"
    }
   },
   "source": [
    "## WTH is Big Data?\n",
    "\n",
    "This is a “heat” map of something. :) \n",
    "<table>\n",
    "    <tr style=\"background: #fff; text-align: left; vertical-align: top;\">\n",
    "        <td style=\"width: 100%; background: #fff; text-align: left; vertical-align: top;\"> <img src='supplementary/heatmap.jpg' width=\"700\" height=\"900\" alt='map'></td>\n",
    "    </tr>\n",
    "</table>\n"
   ]
  },
  {
   "cell_type": "code",
   "execution_count": null,
   "metadata": {
    "hide_input": true,
    "slideshow": {
     "slide_type": "fragment"
    },
    "tags": [
     "Hide",
     "Init"
    ]
   },
   "outputs": [],
   "source": [
    "\n",
    "widget1 = widgets.RadioButtons(\n",
    "    options = ['Temperature', 'Road', 'Night light', 'Social media post'],\n",
    "    description = '<p style=\"display:inline;\"> Guess what does <p style=\"display:inline; color:#FFA500;\">orange</p>/<p style=\"display:inline;color:#1E90FF;\">blue</p>/<p style=\"display:inline; color:#F0FFFF; background-color:#000000;\">white</p> represent?</p>', style={'description_width': 'initial'},\n",
    "    layout = Layout(width='100%'),\n",
    "    value = None\n",
    ")\n",
    "\n",
    "display(widget1)\n",
    "\n",
    "hourofci.SubmitBtn2(widget1)"
   ]
  },
  {
   "cell_type": "markdown",
   "metadata": {
    "hide_input": true,
    "slideshow": {
     "slide_type": "slide"
    }
   },
   "source": [
    "## WTH is Big Data?\n",
    "\n",
    "This is a “heat” map of geotagged social media posts. \n",
    "<table>\n",
    "    <tr style=\"background: #fff; text-align: left; vertical-align: top;\">\n",
    "        <td style=\"width: 100%; background: #fff; text-align: left; vertical-align: top;\"> <img src='supplementary/heatmap.jpg' width=\"700\" height=\"900\" alt='map'></td>\n",
    "    </tr>\n",
    "</table>\n",
    "\n",
    "* <p style=\"display:inline;\"> <p style=\"display:inline; color:#FFA500;\">Orange = flickr</p>; <p style=\"display:inline;color:#1E90FF;\">blue = tweet</p>; <p style=\"display:inline; color:#F0FFFF; background-color:#000000;\">white = both</p>. → Do you see any spatial pattern(s)? </p>\n",
    "\n",
    "\n",
    "\n"
   ]
  },
  {
   "cell_type": "markdown",
   "metadata": {
    "hide_input": true,
    "slideshow": {
     "slide_type": "slide"
    }
   },
   "source": [
    "## WTH is Big Data?\n",
    "\n",
    "<p style=\"display:inline;\">This “heat” map tells us a lot about <p style=\"display:inline; color:#ff0000;\">PEOPLE</p>!! </p>\n",
    "\n",
    "\n",
    "<table>\n",
    "    <tr style=\"background: #fff; text-align: left; vertical-align: top;\">\n",
    "        <td style=\"width: 50%; background: #fff; text-align: left; vertical-align: top;\"> <img src='supplementary/heatmap.jpg' width=\"700\" height=\"900\" alt='map'></td>\n",
    "        <td style=\"background: #fff; text-align: left; font-size: 16px;\">What do these pattern(s) tell us?\n",
    "            <br/><strong>1.\tWhere people are</strong> <br/>\n",
    "   &nbsp;&nbsp;&nbsp;&nbsp; → notice how big cities and transportation network show up\n",
    "            <br/><strong>2.\tWhat people share </strong> <br/>\n",
    "   &nbsp;&nbsp;&nbsp;&nbsp; → flickr vs tweets <br/>\n",
    "Social media is an example of <p style=\"display:inline; color:#0096FF;\">BIG DATA</p>.\n",
    "</td>\n",
    "    </tr>\n",
    "    </tr>\n",
    "</table>\n",
    "\n"
   ]
  },
  {
   "cell_type": "markdown",
   "metadata": {
    "hide_input": true,
    "slideshow": {
     "slide_type": "slide"
    }
   },
   "source": [
    "## WTH is Big Data?\n",
    "\n",
    "\n",
    "<table><br/><br/>\n",
    "    <tr style=\"background: #fff; text-align: left; vertical-align: top;\"><p style=\"display:inline; color:#0096FF; font-size: 24px;\">Definition:</p>\n",
    "        <td style=\"background: #fff; text-align: left; font-size: 24px; vertical-align: top;\"><i> Datasets that are often characterized as a large volume of complex data produced at an accelerating pace. </td>\n",
    "        <td style=\"width: 50%; background: #fff; text-align: left; vertical-align: top;\"> <center><p style=\"display:inline; color:#0096FF; font-size: 24px;\">The 3Vs of Big Data</p><img src='supplementary/3v.png' width=\"700\" height=\"900\" alt='map'></td>\n",
    "    </tr>\n",
    "    \n",
    "</table>\n",
    "\n"
   ]
  },
  {
   "cell_type": "markdown",
   "metadata": {
    "hide_input": true,
    "slideshow": {
     "slide_type": "slide"
    }
   },
   "source": [
    "## The ‘V’s of Big Data\n",
    "<br/>\n",
    "\n",
    "<p style=\"display:inline; color:#0096FF; font-size: 20px;\">Volume</p> <p style=\"display:inline; font-size: 20px;\">- the metric to measure data volume of big data at the scale of astronomical units (e.g. petabytes, exabytes, zettabytes, yottabytes)\n",
    "\n",
    "\n",
    "<table><br/><br/>\n",
    "    <tr style=\"background: #fff; text-align: left; vertical-align: top;\"><td style=\"width: 50%; background: #fff; text-align: left; vertical-align: top;\"> <img src='supplementary/dobrilova.png' width=\"700\" height=\"900\" alt='map'></td>\n",
    "        <td style=\"background: #fff; text-align: left; font-size: 18px; \">  \n",
    "            <ul>\n",
    "                <li>2022 Figures (Dobrilova 2022)</li> \n",
    "            <ul>\n",
    "                <li>FB: 4.2M likes; 211k new photos</li>\n",
    "                <li>IG: 347k browsing; 44k new photos</li>\n",
    "                <li>Twitter: 87.5k new tweets</li>\n",
    "                <li>Tumbler: 37k new posts</li>\n",
    "                <li>Youtube: 4.5M videos watched; 1000 hrs of new videos uploaded</li>\n",
    "                <li>Netflix: 694k hrs of video watched</li>\n",
    "                <li>Texting: ~60M texts sent</li></ul>\n",
    "           <li>How many msgs/posts/videos are there every day/month/year?</li>\n",
    "                </ul>\n",
    " </td>\n",
    "    </tr>\n",
    "</table>\n",
    "\n"
   ]
  },
  {
   "cell_type": "markdown",
   "metadata": {
    "hide_input": true,
    "slideshow": {
     "slide_type": "slide"
    }
   },
   "source": [
    "## The ‘V’s of Big Data\n",
    "<br/>\n",
    "<p style=\"display:inline; color:#0096FF; font-size: 20px;\">Velocity</p> <p style=\"display:inline; font-size: 20px;\">- The rate at which big data are generated over time</p>\n",
    "\n",
    "\n",
    "Watch: OpenStreetMap for Haiti 12th Jan 2010"
   ]
  },
  {
   "cell_type": "code",
   "execution_count": null,
   "metadata": {
    "slideshow": {
     "slide_type": "-"
    },
    "tags": [
     "Hide",
     "Init"
    ]
   },
   "outputs": [],
   "source": [
    "from IPython.display import YouTubeVideo\n",
    "YouTubeVideo('e89Tqr75mMw', width=800,height=480)"
   ]
  },
  {
   "cell_type": "markdown",
   "metadata": {
    "hide_input": true,
    "slideshow": {
     "slide_type": "slide"
    }
   },
   "source": [
    "## The ‘V’s of Big Data\n",
    "<br/>\n",
    "\n",
    "<p style=\"display:inline; color:#0096FF; font-size: 20px;\">Variety</p> <p style=\"display:inline; font-size: 20px;\">- The degree of heterogeneity in how big data are encoded, structured, formatted and represented\n",
    "\n",
    "\n",
    "<table><br/><br/>\n",
    "    <tr style=\"background: #fff; text-align: left; vertical-align: top;\"><td style=\"width: 50%; background: #fff; text-align: left; vertical-align: top;\"> <img src='supplementary/Variety.png' width=\"700\" height=\"900\" alt='map'></td>\n",
    "    </tr>\n",
    "</table>\n",
    "\n"
   ]
  },
  {
   "cell_type": "markdown",
   "metadata": {
    "hide_input": true,
    "slideshow": {
     "slide_type": "slide"
    }
   },
   "source": [
    "## The [Other] ‘V’s of Big Data\n",
    "<br/>\n",
    "\n",
    "<p style=\"display:inline; font-size: 20px;\">Value - The usefulness of big data in providing unique insights to problem solving and/or decision making\n",
    "    \n",
    "Watch the following video:           "
   ]
  },
  {
   "cell_type": "code",
   "execution_count": null,
   "metadata": {
    "slideshow": {
     "slide_type": "-"
    },
    "tags": [
     "Hide",
     "Init"
    ]
   },
   "outputs": [],
   "source": [
    "from IPython.display import YouTubeVideo\n",
    "YouTubeVideo('rwOIQzcXx7Y', width=800,height=480)"
   ]
  },
  {
   "cell_type": "markdown",
   "metadata": {
    "slideshow": {
     "slide_type": "-"
    }
   },
   "source": [
    "Explore the tools here: https://coronavirus.jhu.edu/covid-19-daily-video \n",
    "<ul>\n",
    "                <li>Where are COVID-19 cases rising?</li>\n",
    "                <li>What are the trends of COVID-19 cases and testing?</li>\n",
    "                <li>Which countries have flattened the curves?</li>\n",
    "</ul>"
   ]
  },
  {
   "cell_type": "markdown",
   "metadata": {
    "hide_input": true,
    "slideshow": {
     "slide_type": "slide"
    }
   },
   "source": [
    "## The [Other] ‘V’s of Big Data\n",
    "<br/>\n",
    "\n",
    "<p style=\"display:inline; font-size: 20px;\">Veracity - The quality of big data and its implications to subsequent application\n",
    "\n",
    "<table><br/><br/>\n",
    "    <tr style=\"background: #fff; text-align: left; vertical-align: top;\"><td style=\"width: 40%; background: #fff; text-align: left; vertical-align: top;\"> <img src='supplementary/Veracity.png' width=\"700\" height=\"900\" alt='map'></td>\n",
    "        <td style=\"background: #fff; text-align: left; font-size: 18px; \">  \n",
    "            Examine the emojis:\n",
    "            <ul>\n",
    "                <li>Do you agree/disagree? Why? </li> \n",
    "            <ul>\n",
    "                <li>Grapes in TX</li>\n",
    "                <li>Snowman in D.C.</li>\n",
    "            </ul></ul>\n",
    "            To understand the biases, think about the following questions:\n",
    "            <ul>\n",
    "               <li>Who produced the data?</li>\n",
    "               <li>When was the survey conducted?</li>\n",
    "           </ul>\n",
    " </td>\n",
    "    </tr>\n",
    "</table>\n",
    "\n"
   ]
  },
  {
   "cell_type": "markdown",
   "metadata": {
    "hide_input": true,
    "slideshow": {
     "slide_type": "slide"
    }
   },
   "source": [
    "## The [Other] ‘V’s of Big Data\n",
    "\n",
    "\n",
    "\n",
    "<br/>\n",
    "\n",
    "<p style=\"display:inline; font-size: 20px;\">Veracity → We should be aware of any biases (e.g. sampling) and quality issues</pr>\n",
    "<table>\n",
    "    <tr style=\"background: #fff; text-align: left; vertical-align: top;\"><td style=\"width: 20%; background: #fff; text-align: left; vertical-align: top;\"> <img src='supplementary/Veracity.png' ></td>\n",
    "    <td style=\"width: 20%; background: #fff; text-align: left; vertical-align: top;\"> <img src='supplementary/veracity2.png' ></td>\n",
    "\n",
    "</table>\n",
    "\n"
   ]
  },
  {
   "cell_type": "markdown",
   "metadata": {
    "slideshow": {
     "slide_type": "slide"
    }
   },
   "source": [
    "## The [Other] ‘V’s of Big Data\n",
    "\n",
    "<br/>\n",
    "<p style=\"display:inline; font-size: 20px;\">Visualization - A data rendering process to highlight the spatial, temporal and/or thematic pattern of big data through charts, graphics and creative illustrations\n",
    "\n",
    "Explore the JHU <a href=\"https://coronavirus.jhu.edu/us-map\">COVID-19 Dashboard</a>: (see screenshot to relate the instructions)\n",
    "<ul>\n",
    "        <li>Where are the hotspots/coldspots?</li>\n",
    "        <li>Using the left panel, which county has the highest confirmed cases?</li>\n",
    "        <li>Click on that county (or any county) in the map</li>\n",
    "        <li>In the popup window, scroll down to see the infographics</li>\n",
    "        <li>Click it to open up a new tab, examine the infographics</li>\n",
    "        <li>Which visualization tool(s) helps you to understand the data the best?</li>\n",
    "</ul>\n",
    "<img src='supplementary/dashboard.png' alt='dashboard'>\n",
    "\n"
   ]
  },
  {
   "cell_type": "markdown",
   "metadata": {
    "slideshow": {
     "slide_type": "slide"
    }
   },
   "source": [
    "## Show Me the Data!\n",
    "\n",
    "<br/>\n",
    "\n",
    "In the JHU COVID-19 Dashboard:\n",
    "<ul>\n",
    "        <li>Are there any missing data?</li>\n",
    "        <li>Scroll down the bottom panel, click the link “Downloadable Database: Github”</li>\n",
    "        <li>Examine the data sources</li>\n",
    "        <li>Up at the top, click on “csse_covid_19_data” folder</li>\n",
    "        <li>Click into the “csse_covid_19_daily_reports” folder</li>\n",
    "        <li>Find the .csv with today’s date and click into it</li>\n",
    "        <li>Examine the data</li>\n",
    "</ul>\n",
    "<img src='supplementary/gitshot.png' alt='dashboard'>\n",
    "\n"
   ]
  },
  {
   "cell_type": "markdown",
   "metadata": {
    "slideshow": {
     "slide_type": "slide"
    }
   },
   "source": [
    "## Show Me the Data!\n",
    "\n",
    "<br/>\n",
    "\n",
    "In Jupyter Notebook (see this file): \n",
    "<ul>\n",
    "        <li>Introduce Pandas module</li>\n",
    "        <li>Introduce Pandas data structures</li>\n",
    "        <ul>\n",
    "            <li>Series</li>\n",
    "            <li>Dictionary</li>\n",
    "            <li>Dataframe</li>\n",
    "    </ul>\n",
    "        <li>Explore and import the JHU COVID-19 data</li>\n",
    "        <li>Calculate data</li>\n",
    "</ul>\n",
    "\n"
   ]
  },
  {
   "cell_type": "markdown",
   "metadata": {
    "slideshow": {
     "slide_type": "slide"
    }
   },
   "source": [
    "## Show Me the Magic!!\n",
    "\n",
    "<br/>\n",
    "\n",
    "In Jupyter Notebook: \n",
    "<ul>\n",
    "        <li>Process the data (using NYTimes COVID-19 recent cases data at county level)</li>\n",
    "        <ul>\n",
    "            <li>Dealing with NaN</li>\n",
    "            <li>Filter cases to a selected state (e.g. TX)</li>\n",
    "            <li>Create a spatial snapshot on a specific date → filter TX cases to a selected date (e.g. today)</li>\n",
    "            <li>Create a temporal snapshot of a specific county → filter TX cases to a specific county (e.g. Travis County)</li>\n",
    "    </ul>\n",
    "</ul>\n",
    "\n"
   ]
  },
  {
   "cell_type": "markdown",
   "metadata": {
    "slideshow": {
     "slide_type": "slide"
    }
   },
   "source": [
    "## Show Me the $$!!\n",
    "\n",
    "<br/>\n",
    "\n",
    "In Jupyter Notebook: \n",
    "<ul>\n",
    "    <li>Analyze the data (using NYTimes COVID-19 <a href=\"https://github.com/nytimes/covid-19-data/blob/master/us-counties-recent.csv\">recent cases</a> and <a href=\"https://github.com/nytimes/covid-19-data/blob/master/mask-use/mask-use-by-county.csv\">mask use</a> data at county level)</li>\n",
    "    <ul>\n",
    "            <li>Explore the spatial pattern and distribution of TX COVID-19 data</li>\n",
    "        <ul>\n",
    "            <li>Cluster analysis</li>\n",
    "        </ul>\n",
    "        <li>Explore the temporal trend of TX COVID-19 data</li>\n",
    "            <ul>\n",
    "                <li>Line graph</li>\n",
    "            </ul>\n",
    "        <li>Examine the relationship between COVID-19 confirmed cases and mask use</li>\n",
    "            <ul>\n",
    "                <li>Scatter plot</li>\n",
    "                <li>Correlation analysis</li>\n",
    "            </ul>\n",
    "    </ul>\n",
    "</ul>\n"
   ]
  },
  {
   "cell_type": "markdown",
   "metadata": {
    "slideshow": {
     "slide_type": "slide"
    }
   },
   "source": [
    "## Show Me the Map(sss)!!\n",
    "\n",
    "<br/>\n",
    "\n",
    "In Jupyter Notebook: \n",
    "<ul>\n",
    "    <li>Visualize the data (using NYTimes COVID-19 <a href=\"https://github.com/nytimes/covid-19-data/blob/master/us-counties-recent.csv\">recent cases</a> and <a href=\"https://github.com/nytimes/covid-19-data/blob/master/mask-use/mask-use-by-county.csv\">mask use</a> data at county level)</li>\n",
    "    <ul>\n",
    "        <li>Load spatial data (e.g. county polygons)</li>\n",
    "        <li>Join COVID-19 data with spatial data</li>\n",
    "        <li>Introduce basic cartographic design</li>\n",
    "        <li>Create maps of different variables</li>\n",
    "        <li>Explore data classification methods</li>\n",
    "    </ul>\n",
    "</ul>\n"
   ]
  },
  {
   "cell_type": "markdown",
   "metadata": {
    "hide_input": false,
    "slideshow": {
     "slide_type": "slide"
    }
   },
   "source": [
    "\n",
    "<font size=\"+1\"><a style=\"background-color:blue;color:white;padding:12px;margin:10px;font-weight:bold;\" href=\"bigdata-3.ipynb\">Click here to go to the next notebook.</a></font>"
   ]
  }
 ],
 "metadata": {
  "celltoolbar": "Slideshow",
  "kernelspec": {
   "display_name": "Python 3 (ipykernel)",
   "language": "python",
   "name": "python3"
  },
  "language_info": {
   "codemirror_mode": {
    "name": "ipython",
    "version": 3
   },
   "file_extension": ".py",
   "mimetype": "text/x-python",
   "name": "python",
   "nbconvert_exporter": "python",
   "pygments_lexer": "ipython3",
   "version": "3.9.5"
  },
  "rise": {
   "autolaunch": true,
   "overlay": "<div class='hciheader'></div><div class='hcifooter'></div>",
   "scroll": true
  }
 },
 "nbformat": 4,
 "nbformat_minor": 4
}
