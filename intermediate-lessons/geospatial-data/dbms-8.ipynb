{
 "cells": [
  {
   "cell_type": "markdown",
   "id": "bdd12c5c",
   "metadata": {},
   "source": [
    "# Spatial Databases"
   ]
  },
  {
   "cell_type": "code",
   "execution_count": 3,
   "id": "d6af9bf2",
   "metadata": {
    "hide_input": true,
    "init_cell": true,
    "slideshow": {
     "slide_type": "skip"
    },
    "tags": [
     "Hide"
    ]
   },
   "outputs": [
    {
     "data": {
      "text/html": [
       " \n",
       "    <script type=\"text/javascript\" src=\"../../supplementary/js/custom.js\"></script>\n",
       "    \n",
       "    <style>\n",
       "        .output_prompt{opacity:0;}\n",
       "    </style>\n",
       "    \n",
       "    <input id=\"toggle_code\" type=\"button\" value=\"Toggle raw code\">\n"
      ],
      "text/plain": [
       "<IPython.core.display.HTML object>"
      ]
     },
     "execution_count": 3,
     "metadata": {},
     "output_type": "execute_result"
    }
   ],
   "source": [
    "# This code cell starts the necessary setup for Hour of CI lesson notebooks.\n",
    "# First, it enables users to hide and unhide code by producing a 'Toggle raw code' button below.\n",
    "# Second, it imports the hourofci package, which is necessary for lessons and interactive Jupyter Widgets.\n",
    "# Third, it helps hide/control other aspects of Jupyter Notebooks to improve the user experience\n",
    "# This is an initialization cell\n",
    "# It is not displayed because the Slide Type is 'Skip'\n",
    "\n",
    "from IPython.display import HTML, IFrame, Javascript, display\n",
    "from ipywidgets import interactive\n",
    "import ipywidgets as widgets\n",
    "from ipywidgets import Layout\n",
    "\n",
    "import getpass # This library allows us to get the username (User agent string)\n",
    "\n",
    "# import package for hourofci project\n",
    "import sys\n",
    "sys.path.append('../../supplementary') # relative path (may change depending on the location of the lesson notebook)\n",
    "# sys.path.append('supplementary')\n",
    "import hourofci\n",
    "try:\n",
    "    import os\n",
    "    os.chdir('supplementary')\n",
    "except:\n",
    "    pass\n",
    "\n",
    "# load javascript to initialize/hide cells, get user agent string, and hide output indicator\n",
    "# hide code by introducing a toggle button \"Toggle raw code\"\n",
    "HTML(''' \n",
    "    <script type=\"text/javascript\" src=\\\"../../supplementary/js/custom.js\\\"></script>\n",
    "    \n",
    "    <style>\n",
    "        .output_prompt{opacity:0;}\n",
    "    </style>\n",
    "    \n",
    "    <input id=\"toggle_code\" type=\"button\" value=\"Toggle raw code\">\n",
    "''')"
   ]
  },
  {
   "cell_type": "markdown",
   "id": "e82e0803",
   "metadata": {},
   "source": [
    "In the last chapter, from the Kindergarten and Schools example we saw that, with traditional database and SQL queries we can't ask any **\"spatially relevant\"** questions nor we can identify any spatial patterns (or simply we can't map). \n",
    "\n",
    "To facilitate such questions we should some how **spatially enable our database**. This is exactly what a spatial database is build for. Let's look at the formal definition for a spatial database\n",
    "\n",
    ">A **spatial database is a database** that has been **enhanced to include spatial data that represents objects defined in a geometric space, along with tools for querying and analyzing such data**.\n",
    "\n",
    "The first key point to note here is that **spatial database is a database**, so we can still leverage all the functionalities of a traditional non-spatial database. The second point is the capability of spatial database to include a **new type called Geometry** and perform operations on them and between them. Let's look at three example relations (tables) that has spatial data in the form of geometry. "
   ]
  },
  {
   "cell_type": "markdown",
   "id": "5cf83c8b",
   "metadata": {},
   "source": [
    "![geometry_types](supplementary/images/geometry_types.PNG)\n",
    "\n",
    "As you can see the three tables have a special column called **geometry** (the images shown in geometry column are for representational purpose). The three basic geometry types are \n",
    "\n",
    "1. Points (schools, shooting, earthquake,your location)\n",
    "2. Lines (rivers, streets, roads, railway lines)\n",
    "3. Polygon (countries, states, census tracts, zip codes)\n",
    "\n",
    "And then there other geometries that are build on top of the basic geometry types such as \n",
    "Multipoint, Multiline, and MultiPolygons.\n",
    "\n",
    "Apart from supporting geometry types, spatial database also supports operations on geometry as well as between geometries.\n",
    "\n",
    "Queries that involve geometry types are called spatial queries which we are going to cover in the next section. "
   ]
  },
  {
   "cell_type": "markdown",
   "id": "26e7bc1c",
   "metadata": {},
   "source": [
    "## Spatial Queries"
   ]
  },
  {
   "cell_type": "markdown",
   "id": "86389092",
   "metadata": {},
   "source": [
    "> **Spatial queries are queries in a spatial database** that can be answered on the **basis of geometric information only, i.e., the spatial position and extent of the objects involved**.\n",
    "\n",
    "Let's look at various types of spatial functions and queries"
   ]
  },
  {
   "cell_type": "markdown",
   "id": "c242e8e0",
   "metadata": {},
   "source": [
    "### Containment Query"
   ]
  },
  {
   "cell_type": "markdown",
   "id": "1b50d59a",
   "metadata": {},
   "source": [
    "The function **st_contains(geometry A,geometry B)** returns true if geometry A completely contains geometry B"
   ]
  },
  {
   "cell_type": "markdown",
   "id": "9e9bd559",
   "metadata": {},
   "source": [
    "![Contains_explanation](supplementary/images/containment_detail.png) "
   ]
  },
  {
   "cell_type": "markdown",
   "id": "44008b93",
   "metadata": {},
   "source": [
    "Some real world examples include\n",
    "\n",
    "![PointInPolygon](supplementary/images/PointInPolygon.png) \n",
    "\n",
    "![Covid Cases](supplementary/images/Covid_Cases.png) "
   ]
  },
  {
   "cell_type": "markdown",
   "id": "57927874",
   "metadata": {},
   "source": [
    "**How many starbucks are there in my state**\n",
    "\n",
    "![Starbucks](supplementary/images/137-44505.png) "
   ]
  },
  {
   "cell_type": "markdown",
   "id": "bae79b34",
   "metadata": {},
   "source": [
    "Lets look at the two **tables** involved in this query"
   ]
  },
  {
   "cell_type": "code",
   "execution_count": 8,
   "id": "d2ad0823",
   "metadata": {},
   "outputs": [
    {
     "ename": "LoadExtensionError",
     "evalue": "Failed to load SpatiaLite extension. Verify that your python module sqlite3 has load_extension support and check that libspatialite is installed. Tried extension names: mod_spatialite, mod_spatialite.so, mod_spatialite.dylib",
     "output_type": "error",
     "traceback": [
      "\u001b[0;31m---------------------------------------------------------------------------\u001b[0m",
      "\u001b[0;31mOperationalError\u001b[0m                          Traceback (most recent call last)",
      "\u001b[0;32m/Library/Frameworks/Python.framework/Versions/3.8/lib/python3.8/site-packages/spatialite/connection.py\u001b[0m in \u001b[0;36menable_spatialite_extension\u001b[0;34m(self)\u001b[0m\n\u001b[1;32m     94\u001b[0m             \u001b[0;32mtry\u001b[0m\u001b[0;34m:\u001b[0m\u001b[0;34m\u001b[0m\u001b[0;34m\u001b[0m\u001b[0m\n\u001b[0;32m---> 95\u001b[0;31m                 \u001b[0mself\u001b[0m\u001b[0;34m.\u001b[0m\u001b[0mexecute\u001b[0m\u001b[0;34m(\u001b[0m\u001b[0;34m\"SELECT load_extension('%s')\"\u001b[0m \u001b[0;34m%\u001b[0m \u001b[0mext_name\u001b[0m\u001b[0;34m)\u001b[0m\u001b[0;34m\u001b[0m\u001b[0;34m\u001b[0m\u001b[0m\n\u001b[0m\u001b[1;32m     96\u001b[0m                 \u001b[0;32mreturn\u001b[0m\u001b[0;34m\u001b[0m\u001b[0;34m\u001b[0m\u001b[0m\n",
      "\u001b[0;31mOperationalError\u001b[0m: not authorized",
      "\nThe above exception was the direct cause of the following exception:\n",
      "\u001b[0;31mLoadExtensionError\u001b[0m                        Traceback (most recent call last)",
      "\u001b[0;32m<ipython-input-8-0b684a515646>\u001b[0m in \u001b[0;36m<cell line: 3>\u001b[0;34m()\u001b[0m\n\u001b[1;32m      1\u001b[0m \u001b[0;32mfrom\u001b[0m \u001b[0mipywidgets\u001b[0m \u001b[0;32mimport\u001b[0m \u001b[0mButton\u001b[0m\u001b[0;34m,\u001b[0m \u001b[0mHBox\u001b[0m\u001b[0;34m,\u001b[0m \u001b[0mVBox\u001b[0m\u001b[0;34m,\u001b[0m\u001b[0mwidgets\u001b[0m\u001b[0;34m,\u001b[0m\u001b[0mLayout\u001b[0m\u001b[0;34m,\u001b[0m\u001b[0mGridspecLayout\u001b[0m\u001b[0;34m,\u001b[0m\u001b[0mIntSlider\u001b[0m\u001b[0;34m,\u001b[0m\u001b[0mHTML\u001b[0m\u001b[0;34m\u001b[0m\u001b[0;34m\u001b[0m\u001b[0m\n\u001b[1;32m      2\u001b[0m \u001b[0;32mfrom\u001b[0m \u001b[0mIPython\u001b[0m\u001b[0;34m.\u001b[0m\u001b[0mdisplay\u001b[0m \u001b[0;32mimport\u001b[0m \u001b[0mdisplay\u001b[0m\u001b[0;34m\u001b[0m\u001b[0;34m\u001b[0m\u001b[0m\n\u001b[0;32m----> 3\u001b[0;31m \u001b[0;32mimport\u001b[0m \u001b[0mspatialite\u001b[0m\u001b[0;34m\u001b[0m\u001b[0;34m\u001b[0m\u001b[0m\n\u001b[0m\u001b[1;32m      4\u001b[0m \u001b[0;32mimport\u001b[0m \u001b[0mpandas\u001b[0m \u001b[0;32mas\u001b[0m \u001b[0mpd\u001b[0m\u001b[0;34m\u001b[0m\u001b[0;34m\u001b[0m\u001b[0m\n\u001b[1;32m      5\u001b[0m \u001b[0mdb\u001b[0m \u001b[0;34m=\u001b[0m \u001b[0mspatialite\u001b[0m\u001b[0;34m.\u001b[0m\u001b[0mconnect\u001b[0m\u001b[0;34m(\u001b[0m\u001b[0;34m'databases/spatialDB.sqlite'\u001b[0m\u001b[0;34m)\u001b[0m\u001b[0;34m\u001b[0m\u001b[0;34m\u001b[0m\u001b[0m\n",
      "\u001b[0;32m/Library/Frameworks/Python.framework/Versions/3.8/lib/python3.8/site-packages/spatialite/__init__.py\u001b[0m in \u001b[0;36m<module>\u001b[0;34m\u001b[0m\n\u001b[1;32m     10\u001b[0m \u001b[0;34m\u001b[0m\u001b[0m\n\u001b[1;32m     11\u001b[0m \u001b[0mversion\u001b[0m \u001b[0;34m=\u001b[0m \u001b[0m__version__\u001b[0m\u001b[0;34m\u001b[0m\u001b[0;34m\u001b[0m\u001b[0m\n\u001b[0;32m---> 12\u001b[0;31m \u001b[0mspatialite_version\u001b[0m \u001b[0;34m=\u001b[0m \u001b[0mget_spatialite_version\u001b[0m\u001b[0;34m(\u001b[0m\u001b[0;34m)\u001b[0m\u001b[0;34m\u001b[0m\u001b[0;34m\u001b[0m\u001b[0m\n\u001b[0m",
      "\u001b[0;32m/Library/Frameworks/Python.framework/Versions/3.8/lib/python3.8/site-packages/spatialite/connection.py\u001b[0m in \u001b[0;36mget_spatialite_version\u001b[0;34m()\u001b[0m\n\u001b[1;32m    122\u001b[0m \u001b[0;34m\u001b[0m\u001b[0m\n\u001b[1;32m    123\u001b[0m \u001b[0;32mdef\u001b[0m \u001b[0mget_spatialite_version\u001b[0m\u001b[0;34m(\u001b[0m\u001b[0;34m)\u001b[0m\u001b[0;34m:\u001b[0m\u001b[0;34m\u001b[0m\u001b[0;34m\u001b[0m\u001b[0m\n\u001b[0;32m--> 124\u001b[0;31m     \u001b[0;32mwith\u001b[0m \u001b[0mconnect\u001b[0m\u001b[0;34m(\u001b[0m\u001b[0;34m':memory:'\u001b[0m\u001b[0;34m)\u001b[0m \u001b[0;32mas\u001b[0m \u001b[0mdb\u001b[0m\u001b[0;34m:\u001b[0m\u001b[0;34m\u001b[0m\u001b[0;34m\u001b[0m\u001b[0m\n\u001b[0m\u001b[1;32m    125\u001b[0m         \u001b[0;32mreturn\u001b[0m \u001b[0mdb\u001b[0m\u001b[0;34m.\u001b[0m\u001b[0mexecute\u001b[0m\u001b[0;34m(\u001b[0m\u001b[0;34m'SELECT spatialite_version()'\u001b[0m\u001b[0;34m)\u001b[0m\u001b[0;34m.\u001b[0m\u001b[0mfetchone\u001b[0m\u001b[0;34m(\u001b[0m\u001b[0;34m)\u001b[0m\u001b[0;34m[\u001b[0m\u001b[0;36m0\u001b[0m\u001b[0;34m]\u001b[0m\u001b[0;34m\u001b[0m\u001b[0;34m\u001b[0m\u001b[0m\n",
      "\u001b[0;32m/Library/Frameworks/Python.framework/Versions/3.8/lib/python3.8/site-packages/spatialite/connection.py\u001b[0m in \u001b[0;36mconnect\u001b[0;34m(*args, **kwargs)\u001b[0m\n\u001b[1;32m    118\u001b[0m \u001b[0;32mdef\u001b[0m \u001b[0mconnect\u001b[0m\u001b[0;34m(\u001b[0m\u001b[0;34m*\u001b[0m\u001b[0margs\u001b[0m\u001b[0;34m,\u001b[0m \u001b[0;34m**\u001b[0m\u001b[0mkwargs\u001b[0m\u001b[0;34m)\u001b[0m\u001b[0;34m:\u001b[0m\u001b[0;34m\u001b[0m\u001b[0;34m\u001b[0m\u001b[0m\n\u001b[1;32m    119\u001b[0m     \u001b[0mkwargs\u001b[0m\u001b[0;34m[\u001b[0m\u001b[0;34m'factory'\u001b[0m\u001b[0;34m]\u001b[0m \u001b[0;34m=\u001b[0m \u001b[0mConnection\u001b[0m\u001b[0;34m\u001b[0m\u001b[0;34m\u001b[0m\u001b[0m\n\u001b[0;32m--> 120\u001b[0;31m     \u001b[0;32mreturn\u001b[0m \u001b[0msqlite3\u001b[0m\u001b[0;34m.\u001b[0m\u001b[0mconnect\u001b[0m\u001b[0;34m(\u001b[0m\u001b[0;34m*\u001b[0m\u001b[0margs\u001b[0m\u001b[0;34m,\u001b[0m \u001b[0;34m**\u001b[0m\u001b[0mkwargs\u001b[0m\u001b[0;34m)\u001b[0m\u001b[0;34m\u001b[0m\u001b[0;34m\u001b[0m\u001b[0m\n\u001b[0m\u001b[1;32m    121\u001b[0m \u001b[0;34m\u001b[0m\u001b[0m\n\u001b[1;32m    122\u001b[0m \u001b[0;34m\u001b[0m\u001b[0m\n",
      "\u001b[0;32m/Library/Frameworks/Python.framework/Versions/3.8/lib/python3.8/site-packages/spatialite/connection.py\u001b[0m in \u001b[0;36m__init__\u001b[0;34m(self, *args, **kwargs)\u001b[0m\n\u001b[1;32m     77\u001b[0m     \u001b[0;32mdef\u001b[0m \u001b[0m__init__\u001b[0m\u001b[0;34m(\u001b[0m\u001b[0mself\u001b[0m\u001b[0;34m,\u001b[0m \u001b[0;34m*\u001b[0m\u001b[0margs\u001b[0m\u001b[0;34m,\u001b[0m \u001b[0;34m**\u001b[0m\u001b[0mkwargs\u001b[0m\u001b[0;34m)\u001b[0m\u001b[0;34m:\u001b[0m\u001b[0;34m\u001b[0m\u001b[0;34m\u001b[0m\u001b[0m\n\u001b[1;32m     78\u001b[0m         \u001b[0msuper\u001b[0m\u001b[0;34m(\u001b[0m\u001b[0mConnection\u001b[0m\u001b[0;34m,\u001b[0m \u001b[0mself\u001b[0m\u001b[0;34m)\u001b[0m\u001b[0;34m.\u001b[0m\u001b[0m__init__\u001b[0m\u001b[0;34m(\u001b[0m\u001b[0;34m*\u001b[0m\u001b[0margs\u001b[0m\u001b[0;34m,\u001b[0m \u001b[0;34m**\u001b[0m\u001b[0mkwargs\u001b[0m\u001b[0;34m)\u001b[0m\u001b[0;34m\u001b[0m\u001b[0;34m\u001b[0m\u001b[0m\n\u001b[0;32m---> 79\u001b[0;31m         \u001b[0mself\u001b[0m\u001b[0;34m.\u001b[0m\u001b[0menable_spatialite_extension\u001b[0m\u001b[0;34m(\u001b[0m\u001b[0;34m)\u001b[0m\u001b[0;34m\u001b[0m\u001b[0;34m\u001b[0m\u001b[0m\n\u001b[0m\u001b[1;32m     80\u001b[0m         \u001b[0mself\u001b[0m\u001b[0;34m.\u001b[0m\u001b[0m_metadata\u001b[0m \u001b[0;34m=\u001b[0m \u001b[0mSpatialMetadata\u001b[0m\u001b[0;34m(\u001b[0m\u001b[0mself\u001b[0m\u001b[0;34m)\u001b[0m\u001b[0;34m\u001b[0m\u001b[0;34m\u001b[0m\u001b[0m\n\u001b[1;32m     81\u001b[0m \u001b[0;34m\u001b[0m\u001b[0m\n",
      "\u001b[0;32m/Library/Frameworks/Python.framework/Versions/3.8/lib/python3.8/site-packages/spatialite/connection.py\u001b[0m in \u001b[0;36menable_spatialite_extension\u001b[0;34m(self)\u001b[0m\n\u001b[1;32m    104\u001b[0m             \u001b[0;34m'Tried extension names: %s'\u001b[0m \u001b[0;34m%\u001b[0m \u001b[0;34m', '\u001b[0m\u001b[0;34m.\u001b[0m\u001b[0mjoin\u001b[0m\u001b[0;34m(\u001b[0m\u001b[0mself\u001b[0m\u001b[0;34m.\u001b[0m\u001b[0mEXT_NAMES\u001b[0m\u001b[0;34m)\u001b[0m\u001b[0;34m\u001b[0m\u001b[0;34m\u001b[0m\u001b[0m\n\u001b[1;32m    105\u001b[0m         )\n\u001b[0;32m--> 106\u001b[0;31m         \u001b[0;32mraise\u001b[0m \u001b[0mLoadExtensionError\u001b[0m\u001b[0;34m(\u001b[0m\u001b[0mmsg\u001b[0m\u001b[0;34m)\u001b[0m \u001b[0;32mfrom\u001b[0m \u001b[0merror\u001b[0m\u001b[0;34m\u001b[0m\u001b[0;34m\u001b[0m\u001b[0m\n\u001b[0m\u001b[1;32m    107\u001b[0m \u001b[0;34m\u001b[0m\u001b[0m\n\u001b[1;32m    108\u001b[0m     \u001b[0;32mdef\u001b[0m \u001b[0mtransaction\u001b[0m\u001b[0;34m(\u001b[0m\u001b[0mself\u001b[0m\u001b[0;34m,\u001b[0m \u001b[0mquery\u001b[0m\u001b[0;34m,\u001b[0m \u001b[0mlevel\u001b[0m\u001b[0;34m=\u001b[0m\u001b[0;34m'DEFERRED'\u001b[0m\u001b[0;34m)\u001b[0m\u001b[0;34m:\u001b[0m\u001b[0;34m\u001b[0m\u001b[0;34m\u001b[0m\u001b[0m\n",
      "\u001b[0;31mLoadExtensionError\u001b[0m: Failed to load SpatiaLite extension. Verify that your python module sqlite3 has load_extension support and check that libspatialite is installed. Tried extension names: mod_spatialite, mod_spatialite.so, mod_spatialite.dylib"
     ]
    }
   ],
   "source": [
    "from ipywidgets import Button, HBox, VBox,widgets,Layout,GridspecLayout,IntSlider,HTML\n",
    "from IPython.display import display\n",
    "import spatialite\n",
    "import pandas as pd\n",
    "db = spatialite.connect('databases/spatialDB.sqlite')\n",
    "table1 = pd.read_sql_query('select statefp,name,geom as geometry from us_states limit 5',db)\n",
    "table2 = pd.read_sql_query('select pk_uid,fid,geom as geometry from starbucks limit 5',db)\n",
    "table1_disp = widgets.Output()\n",
    "table2_disp = widgets.Output()\n",
    "table1_header = widgets.HTML(value = f\"<b><font color='red'><center>US_STATES</center></b>\")\n",
    "table2_header = widgets.HTML(value = f\"<b><font color='red'><center>STARBUCKS</center></b>\")\n",
    "with table1_disp:\n",
    "    display(table1)\n",
    "with table2_disp:\n",
    "    display(table2)\n",
    "out=HBox([VBox([table1_header,table1_disp],layout = Layout(margin='0 100px 0 0')),VBox([table2_header,table2_disp])])\n",
    "out"
   ]
  },
  {
   "cell_type": "markdown",
   "id": "8d786136",
   "metadata": {},
   "source": [
    "As you can see for both the tables (US_STATES and STARBUCKS) there is a geometry column which can be used for spatial querying. Suppose your state is Califronia, then to count all the STARBUCKS that are **within** the state of 'Califorina' we can use the query,\n",
    "\n",
    "```sql\n",
    "select count(*) as total_starbucks from us_states u,starbucks s where u.name = 'California' and st_contains(u.geom,s.geom)\n",
    "```\n",
    "\n",
    "From the last chapter you might recall that this is a join operation involving multiple tables. But unlike the examples the we have seen there is no explicit key-based relationship between the two tables. \n",
    "\n",
    "So instead of using a key-based relationship for the join we are using the relationship between the geometries of the two tables for the join. Such type of joins are called **Spatial Joins**.\n",
    "\n",
    ">**Spatial Joins** - **Joins attributes from one table to another based on the spatial relationship**."
   ]
  },
  {
   "cell_type": "markdown",
   "id": "841ed54d",
   "metadata": {},
   "source": [
    "The clause\n",
    "```sql\n",
    "where u.name = 'California' \n",
    "```\n",
    "retrieve all rows from the us_states table with a name 'California' (which is only one)\n",
    "and the clause\n",
    "```sql\n",
    "st_contains(u.geom,s.geom)\n",
    "```\n",
    "\n",
    "retrieves those rows from starbucks and us_states table where the **geometry in starbucks table (which is point in case of starbucks table) is contained by the geometry (which is Polygon) in us_states table** (which in this case is California) and then\n",
    "```sql\n",
    "count(*) as total_starbucks\n",
    "```\n",
    "counts the number of rows returned as a result of the where clause and assign it a name total_starbucks"
   ]
  },
  {
   "cell_type": "markdown",
   "id": "a8c2326b",
   "metadata": {},
   "source": [
    "Let's look at an interactive example of this query. Here we can change the state interactively and get the counts. Along with the counts the locations of the starbucks are also displayed. "
   ]
  },
  {
   "cell_type": "code",
   "execution_count": null,
   "id": "1d2fcb3e",
   "metadata": {},
   "outputs": [],
   "source": [
    "from ipyleaflet import Map, DrawControl,GeoData,LayerGroup,WidgetControl,Rectangle,basemap_to_tiles,basemaps,Polygon,GeoJSON,Choropleth\n",
    "from ipywidgets import Button, HBox, VBox,widgets,Layout,GridspecLayout,IntSlider,HTML\n",
    "from IPython.display import display\n",
    "import spatialite\n",
    "import pandas as pd\n",
    "import geopandas as gpd\n",
    "import json\n",
    "import time\n",
    "db = spatialite.connect('databases/spatialDB.sqlite')\n",
    "import time\n",
    "def stateChanged(slid):\n",
    "    layer_group.clear_layers()\n",
    "    stateGeomSql = f\"SELECT ST_AsBinary(geom) as geom FROM us_states where name='{states.value}';\"\n",
    "    starbucksSql = f\"\"\"SELECT ST_AsBinary(s.geom) as geom FROM us_states u,starbucks s where u.name='{states.value}'\n",
    "     and st_contains(u.geom,s.geom) and s.rowid in(SELECT ROWID \n",
    "    FROM SpatialIndex\n",
    "    WHERE f_table_name = 'starbucks' \n",
    "        AND search_frame = u.geom)\"\"\"\n",
    "    gdf = gpd.GeoDataFrame.from_postgis(stateGeomSql, db,crs = 'EPSG:4269').to_crs('EPSG:4326')\n",
    "    starbucksgdf = gpd.GeoDataFrame.from_postgis(starbucksSql, db,crs = 'EPSG:4326')\n",
    "    center = [gdf.centroid.y.values[0],gdf.centroid.x.values[0]]\n",
    "    sMap.center = center\n",
    "    sMap.zoom = 6\n",
    "    geo_data = GeoJSON(data = json.loads(gdf.to_json()),style={'opacity': 1, 'dashArray': '9', 'fillOpacity': 0, 'weight': 1})\n",
    "    layer_group.add_layer(geo_data)\n",
    "    geo_data_starbucks = GeoJSON(data = json.loads(starbucksgdf.to_json()))\n",
    "    layer_group.add_layer(geo_data_starbucks)\n",
    "    counts.value = str(len(starbucksgdf))\n",
    "    \n",
    "sql = \"SELECT name FROM us_states order by name;\"\n",
    "statedf = pd.read_sql_query(sql,db)\n",
    "sMap= Map(center=(41.482222, -81.669722), zoom=15,prefer_canvas =True)\n",
    "layer_group = LayerGroup()\n",
    "sMap.add_layer(layer_group)\n",
    "states = widgets.Dropdown(\n",
    "    options=statedf.name.values,\n",
    "    value=statedf.name.values[0],\n",
    "    description='State:',\n",
    "    disabled=False,\n",
    ")\n",
    "counts=widgets.Text(\n",
    "    value='',\n",
    "    placeholder='',\n",
    "    description='Total:',\n",
    "    disabled=True,\n",
    ")\n",
    "states.observe(stateChanged, 'value')\n",
    "filterParams=HBox([sMap,VBox([states,counts])])\n",
    "stateChanged(None)\n",
    "filterParams"
   ]
  },
  {
   "cell_type": "markdown",
   "id": "7ce34657",
   "metadata": {},
   "source": [
    "We can also modify the question as, **\"How many starbucks in each state?\"**\n",
    "\n",
    "![PointInManyPolygons](supplementary/images/PointInMultiplePolygons.png) "
   ]
  },
  {
   "cell_type": "markdown",
   "id": "c1d0f180",
   "metadata": {},
   "source": [
    "**Total starbucks in each state**\n",
    "\n",
    "The key difference here is that we are not selecting any particular state and we want our results to be **grouped** by each state name\n",
    "\n",
    "We can write this **query** as \n",
    "\n",
    "```sql\n",
    "select u.name,count(*) as total_starbucks from us_states u,starbucks s where st_contains(u.geom,s.geom) group by u.name\n",
    "```\n",
    "\n",
    "If you compare this query to the previous one you can notice that the clause that checks the state name is removed. "
   ]
  },
  {
   "cell_type": "code",
   "execution_count": null,
   "id": "f20d9b0d",
   "metadata": {},
   "outputs": [],
   "source": [
    "from ipywidgets import Button, HBox, VBox,widgets,Layout,GridspecLayout,IntSlider,HTML\n",
    "from IPython.display import display\n",
    "db = spatialite.connect('databases/spatialDB.sqlite')\n",
    "table1 = pd.read_sql_query(\"\"\"SELECT statefp,name,u.geom as geometry,s.pk_uid,fid,s.geom as geometry from us_states u,starbucks s\n",
    " where st_contains(u.geom,s.geom) and s.rowid in(SELECT ROWID \n",
    "    FROM SpatialIndex\n",
    "    WHERE f_table_name = 'starbucks' \n",
    "        AND search_frame = u.geom) limit 10\"\"\",db)\n",
    "table1_disp = widgets.Output()\n",
    "table1_header = widgets.HTML(value = f\"<b><font color='red'><center>Matching Rows</center></b>\")\n",
    "with table1_disp:\n",
    "    display(table1)\n",
    "out=HBox([VBox([table1_header,table1_disp])])\n",
    "out"
   ]
  },
  {
   "cell_type": "markdown",
   "id": "ebff0f60",
   "metadata": {},
   "source": [
    "Now if you want to group this table based on name and show the total count for each name use count() and group by name"
   ]
  },
  {
   "cell_type": "code",
   "execution_count": null,
   "id": "8ad2e81e",
   "metadata": {},
   "outputs": [],
   "source": [
    "disp = widgets.Output()\n",
    "db = spatialite.connect('databases/spatialDB.sqlite')\n",
    "stateGeomSql = f\"\"\"SELECT u.name,count(*) as total_sbucks from us_states u,starbucks s\n",
    " where st_contains(u.geom,s.geom) and s.rowid in(SELECT ROWID \n",
    "    FROM SpatialIndex\n",
    "    WHERE f_table_name = 'starbucks' \n",
    "        AND search_frame = u.geom) group by u.name\"\"\"\n",
    "data = pd.read_sql_query(stateGeomSql,con=db)\n",
    "with disp:\n",
    "    display(data)\n",
    "disp"
   ]
  },
  {
   "cell_type": "markdown",
   "id": "e83c1661",
   "metadata": {},
   "source": [
    "We can ask similar questions using the containment query. \n",
    "\n",
    "Try out the examples given below"
   ]
  },
  {
   "cell_type": "markdown",
   "id": "279cc14a",
   "metadata": {},
   "source": [
    "**How many dominos are there in my state**\n",
    "\n",
    "Let's look at the tables."
   ]
  },
  {
   "cell_type": "code",
   "execution_count": null,
   "id": "aaf25b78",
   "metadata": {
    "scrolled": true
   },
   "outputs": [],
   "source": [
    "from ipywidgets import Button, HBox, VBox,widgets,Layout,GridspecLayout,IntSlider,HTML\n",
    "from IPython.display import display\n",
    "db = spatialite.connect('databases/spatialDB.sqlite')\n",
    "table1 = pd.read_sql_query('select statefp,name,geom as geometry from us_states limit 5',db)\n",
    "table2 = pd.read_sql_query('select pk_uid,fid,geom as geometry from dominos limit 5',db)\n",
    "table1_disp = widgets.Output()\n",
    "table2_disp = widgets.Output()\n",
    "table1_header = widgets.HTML(value = f\"<b><font color='red'><center>US_STATES</center></b>\")\n",
    "table2_header = widgets.HTML(value = f\"<b><font color='red'><center>DOMINOS</center></b>\")\n",
    "with table1_disp:\n",
    "    display(table1)\n",
    "with table2_disp:\n",
    "    display(table2)\n",
    "out=HBox([VBox([table1_header,table1_disp],layout = Layout(margin='0 100px 0 0')),VBox([table2_header,table2_disp])])\n",
    "out"
   ]
  },
  {
   "cell_type": "markdown",
   "id": "09db5eb2",
   "metadata": {},
   "source": [
    "And this is the query\n",
    "\n",
    "```sql\n",
    "SELECT ST_AsBinary(s.geom) as geom FROM us_states u,dominos s where u.name='California'\n",
    "     and st_contains(u.geom,s.geom)\n",
    "```"
   ]
  },
  {
   "cell_type": "markdown",
   "id": "61e239d2",
   "metadata": {},
   "source": [
    "Let's look at an interactive example"
   ]
  },
  {
   "cell_type": "code",
   "execution_count": null,
   "id": "c5701f69",
   "metadata": {},
   "outputs": [],
   "source": [
    "from ipyleaflet import Map, DrawControl,GeoData,LayerGroup,WidgetControl,Rectangle,basemap_to_tiles,basemaps,Polygon,GeoJSON\n",
    "from ipywidgets import Button, HBox, VBox,widgets,Layout,GridspecLayout,IntSlider,HTML\n",
    "from IPython.display import display\n",
    "import spatialite\n",
    "import pandas as pd\n",
    "import geopandas as gpd\n",
    "import json\n",
    "import time\n",
    "db = spatialite.connect('databases/spatialDB.sqlite')\n",
    "\n",
    "def stateChanged(slid):\n",
    "    layer_group.clear_layers()\n",
    "    stateGeomSql = f\"SELECT ST_AsBinary(geom) as geom FROM us_states where name='{states.value}';\"\n",
    "    dominosSql = f\"\"\"SELECT ST_AsBinary(s.geom) as geom FROM us_states u,dominos s where u.name='{states.value}'\n",
    "     and st_contains(u.geom,s.geom) and s.rowid in(SELECT ROWID \n",
    "    FROM SpatialIndex\n",
    "    WHERE f_table_name = 'dominos' \n",
    "        AND search_frame = u.geom)\"\"\"\n",
    "    gdf = gpd.GeoDataFrame.from_postgis(stateGeomSql, db,crs = 'EPSG:4269').to_crs('EPSG:4326')\n",
    "    dominosgdf = gpd.GeoDataFrame.from_postgis(dominosSql, db,crs = 'EPSG:4326')\n",
    "    center = [gdf.centroid.y.values[0],gdf.centroid.x.values[0]]\n",
    "    sMap.center = center\n",
    "    sMap.zoom = 6\n",
    "    geo_data = GeoJSON(data = json.loads(gdf.to_json()),style={'opacity': 1, 'dashArray': '9', 'fillOpacity': 0, 'weight': 1})\n",
    "    layer_group.add_layer(geo_data)\n",
    "    geo_data_dominos = GeoJSON(data = json.loads(dominosgdf.to_json()))\n",
    "    layer_group.add_layer(geo_data_dominos)\n",
    "    counts.value = str(len(dominosgdf))\n",
    "    \n",
    "sql = \"SELECT name FROM us_states order by name;\"\n",
    "statedf = pd.read_sql_query(sql,db)\n",
    "sMap= Map(center=(41.482222, -81.669722), zoom=15,prefer_canvas =True)\n",
    "layer_group = LayerGroup()\n",
    "sMap.add_layer(layer_group)\n",
    "states = widgets.Dropdown(\n",
    "    options=statedf.name.values,\n",
    "    value=statedf.name.values[0],\n",
    "    description='State:',\n",
    "    disabled=False,\n",
    ")\n",
    "counts=widgets.Text(\n",
    "    value='',\n",
    "    placeholder='',\n",
    "    description='Total:',\n",
    "    disabled=True,\n",
    ")\n",
    "states.observe(stateChanged, 'value')\n",
    "filterParams=HBox([sMap,VBox([states,counts])])\n",
    "stateChanged(None)\n",
    "filterParams"
   ]
  },
  {
   "cell_type": "markdown",
   "id": "73cfa6d6",
   "metadata": {},
   "source": [
    "Another example \n",
    "\n",
    "**Total dominos in each state**\n",
    "\n",
    "And this is the query\n",
    "\n",
    "```sql\n",
    "   SELECT u.name,count(*) as total_dominos from us_states u,dominos s\n",
    " where st_contains(u.geom,s.geom) group by u.name\n",
    "```"
   ]
  },
  {
   "cell_type": "code",
   "execution_count": null,
   "id": "9afa0495",
   "metadata": {},
   "outputs": [],
   "source": [
    "disp = widgets.Output()\n",
    "db = spatialite.connect('databases/spatialDB.sqlite')\n",
    "stateGeomSql = f\"\"\"SELECT u.name,count(*) as total_dominos from us_states u,dominos s\n",
    " where st_contains(u.geom,s.geom) and s.rowid in(SELECT ROWID \n",
    "    FROM SpatialIndex\n",
    "    WHERE f_table_name = 'dominos' \n",
    "        AND search_frame = u.geom) group by u.name\"\"\"\n",
    "data = pd.read_sql_query(stateGeomSql,con=db)\n",
    "with disp:\n",
    "    display(data)\n",
    "disp"
   ]
  },
  {
   "cell_type": "markdown",
   "id": "4182b6f1",
   "metadata": {},
   "source": [
    "One more example\n",
    "\n",
    "**Total homicides in each neighborhood**\n",
    "\n",
    "Here are the tables"
   ]
  },
  {
   "cell_type": "code",
   "execution_count": 5,
   "id": "2adac36e",
   "metadata": {},
   "outputs": [
    {
     "ename": "NameError",
     "evalue": "name 'spatialite' is not defined",
     "output_type": "error",
     "traceback": [
      "\u001b[0;31m---------------------------------------------------------------------------\u001b[0m",
      "\u001b[0;31mNameError\u001b[0m                                 Traceback (most recent call last)",
      "\u001b[0;32m<ipython-input-5-5085d310be1d>\u001b[0m in \u001b[0;36m<cell line: 3>\u001b[0;34m()\u001b[0m\n\u001b[1;32m      1\u001b[0m \u001b[0;32mfrom\u001b[0m \u001b[0mipywidgets\u001b[0m \u001b[0;32mimport\u001b[0m \u001b[0mHBox\u001b[0m\u001b[0;34m,\u001b[0m \u001b[0mVBox\u001b[0m\u001b[0;34m,\u001b[0m\u001b[0mwidgets\u001b[0m\u001b[0;34m,\u001b[0m\u001b[0mLayout\u001b[0m\u001b[0;34m,\u001b[0m\u001b[0mHTML\u001b[0m\u001b[0;34m\u001b[0m\u001b[0;34m\u001b[0m\u001b[0m\n\u001b[1;32m      2\u001b[0m \u001b[0;32mfrom\u001b[0m \u001b[0mIPython\u001b[0m\u001b[0;34m.\u001b[0m\u001b[0mdisplay\u001b[0m \u001b[0;32mimport\u001b[0m \u001b[0mdisplay\u001b[0m\u001b[0;34m\u001b[0m\u001b[0;34m\u001b[0m\u001b[0m\n\u001b[0;32m----> 3\u001b[0;31m \u001b[0mdb\u001b[0m \u001b[0;34m=\u001b[0m \u001b[0mspatialite\u001b[0m\u001b[0;34m.\u001b[0m\u001b[0mconnect\u001b[0m\u001b[0;34m(\u001b[0m\u001b[0;34m'databases/spatialDB.sqlite'\u001b[0m\u001b[0;34m)\u001b[0m\u001b[0;34m\u001b[0m\u001b[0;34m\u001b[0m\u001b[0m\n\u001b[0m\u001b[1;32m      4\u001b[0m \u001b[0mtable1\u001b[0m \u001b[0;34m=\u001b[0m \u001b[0mpd\u001b[0m\u001b[0;34m.\u001b[0m\u001b[0mread_sql_query\u001b[0m\u001b[0;34m(\u001b[0m\u001b[0;34m'select boroname,name,geom as geometry from nyc_neighborhoods limit 5'\u001b[0m\u001b[0;34m,\u001b[0m\u001b[0mdb\u001b[0m\u001b[0;34m)\u001b[0m\u001b[0;34m\u001b[0m\u001b[0;34m\u001b[0m\u001b[0m\n\u001b[1;32m      5\u001b[0m \u001b[0mtable2\u001b[0m \u001b[0;34m=\u001b[0m \u001b[0mpd\u001b[0m\u001b[0;34m.\u001b[0m\u001b[0mread_sql_query\u001b[0m\u001b[0;34m(\u001b[0m\u001b[0;34m'select id,weapon, light_dark, year, geom as geometry from nyc_homicides limit 5'\u001b[0m\u001b[0;34m,\u001b[0m\u001b[0mdb\u001b[0m\u001b[0;34m)\u001b[0m\u001b[0;34m\u001b[0m\u001b[0;34m\u001b[0m\u001b[0m\n",
      "\u001b[0;31mNameError\u001b[0m: name 'spatialite' is not defined"
     ]
    }
   ],
   "source": [
    "from ipywidgets import HBox, VBox,widgets,Layout,HTML\n",
    "from IPython.display import display\n",
    "db = spatialite.connect('databases/spatialDB.sqlite')\n",
    "table1 = pd.read_sql_query('select boroname,name,geom as geometry from nyc_neighborhoods limit 5',db)\n",
    "table2 = pd.read_sql_query('select id,weapon, light_dark, year, geom as geometry from nyc_homicides limit 5',db)\n",
    "table1_disp = widgets.Output()\n",
    "table2_disp = widgets.Output()\n",
    "table1_header = widgets.HTML(value = f\"<b><font color='red'><center>NYC_NEIGHBORHOODS</center></b>\")\n",
    "table2_header = widgets.HTML(value = f\"<b><font color='red'><center>NYC_HOMICIDES</center></b>\")\n",
    "with table1_disp:\n",
    "    display(table1)\n",
    "with table2_disp:\n",
    "    display(table2)\n",
    "out=HBox([VBox([table1_header,table1_disp],layout = Layout(margin='0 100px 0 0')),VBox([table2_header,table2_disp])])\n",
    "out"
   ]
  },
  {
   "cell_type": "markdown",
   "id": "de62d448",
   "metadata": {},
   "source": [
    "And here is the query\n",
    "\n",
    "```sql\n",
    "   SELECT u.boroname,count(*) as total_homicides from nyc_neighborhoods u,nyc_homicides s\n",
    " where st_contains(u.geom,s.geom) group by u.boroname\n",
    "```"
   ]
  },
  {
   "cell_type": "code",
   "execution_count": null,
   "id": "5c0342a8",
   "metadata": {},
   "outputs": [],
   "source": [
    "disp = widgets.Output()\n",
    "db = spatialite.connect('databases/spatialDB.sqlite')\n",
    "stateGeomSql = f\"\"\"SELECT u.boroname,count(*) as total_homicides from nyc_neighborhoods u,nyc_homicides s\n",
    " where st_contains(u.geom,s.geom) and s.rowid in(SELECT ROWID \n",
    "    FROM SpatialIndex\n",
    "    WHERE f_table_name = 'nyc_homicides' \n",
    "        AND search_frame = u.geom) group by u.boroname\"\"\"\n",
    "data = pd.read_sql_query(stateGeomSql,con=db)\n",
    "with disp:\n",
    "    display(data)\n",
    "disp"
   ]
  },
  {
   "cell_type": "markdown",
   "id": "a8ad2db9",
   "metadata": {},
   "source": [
    "One last example\n",
    "\n",
    "**Total earthquakes in each state**\n",
    "\n",
    "Let's look at the tables"
   ]
  },
  {
   "cell_type": "code",
   "execution_count": null,
   "id": "4ef19d57",
   "metadata": {},
   "outputs": [],
   "source": [
    "from ipywidgets import HBox, VBox,widgets,Layout,HTML\n",
    "from IPython.display import display\n",
    "db = spatialite.connect('databases/spatialDB.sqlite')\n",
    "table1 = pd.read_sql_query('select statefp,name,geom as geometry from us_states limit 5',db)\n",
    "table2 = pd.read_sql_query('select * from earthquakes limit 5',db)\n",
    "table1_disp = widgets.Output()\n",
    "table2_disp = widgets.Output()\n",
    "table1_header = widgets.HTML(value = f\"<b><font color='red'><center>US_STATES</center></b>\")\n",
    "table2_header = widgets.HTML(value = f\"<b><font color='red'><center>EARTHQUAKES</center></b>\")\n",
    "with table1_disp:\n",
    "    display(table1)\n",
    "with table2_disp:\n",
    "    display(table2)\n",
    "out=HBox([VBox([table1_header,table1_disp],layout = Layout(margin='0 100px 0 0')),VBox([table2_header,table2_disp])])\n",
    "out"
   ]
  },
  {
   "cell_type": "markdown",
   "id": "2c66d7ce",
   "metadata": {},
   "source": [
    "And here is the query\n",
    "\n",
    "```sql\n",
    "SELECT u.name,count(*) as total_earthquakes from us_states u,earthquakes s\n",
    " where st_contains(u.geom,s.geometry) group by u.name\n",
    "```"
   ]
  },
  {
   "cell_type": "code",
   "execution_count": null,
   "id": "111636a5",
   "metadata": {},
   "outputs": [],
   "source": [
    "disp = widgets.Output()\n",
    "db = spatialite.connect('databases/spatialDB.sqlite')\n",
    "stateGeomSql = f\"\"\"SELECT u.name,count(*) as total_earthquakes from us_states u,earthquakes s\n",
    " where st_contains(u.geom,s.geometry) and s.rowid in(SELECT ROWID \n",
    "    FROM SpatialIndex\n",
    "    WHERE f_table_name = 'earthquakes' \n",
    "        AND search_frame = u.geom) group by u.name\"\"\"\n",
    "data = pd.read_sql_query(stateGeomSql,con=db)\n",
    "with disp:\n",
    "    display(data)\n",
    "disp"
   ]
  },
  {
   "cell_type": "markdown",
   "id": "d8dae85e",
   "metadata": {},
   "source": [
    "Now when we look at the results we might not see any spatial patterns as such. But this is where spatial data and spatial database shines.\n",
    "\n",
    "To show the spatial distribution we use a particular type of map called **Choropleth map**. "
   ]
  },
  {
   "cell_type": "markdown",
   "id": "901869fc",
   "metadata": {},
   "source": [
    "**A choropleth map showing spatial distribution of earthquakes**"
   ]
  },
  {
   "cell_type": "code",
   "execution_count": null,
   "id": "c12f7acb",
   "metadata": {},
   "outputs": [],
   "source": [
    "from branca.colormap import linear\n",
    "import matplotlib.pyplot as plt\n",
    "from ipyleaflet import Choropleth\n",
    "disp = widgets.Output()\n",
    "db = spatialite.connect('databases/spatialDB.sqlite')\n",
    "stateDataSql = f\"\"\"SELECT u.stusps,count(*) as total_earthquakes from us_states u,earthquakes s\n",
    " where st_contains(u.geom,s.geometry) and s.rowid in(SELECT ROWID \n",
    "    FROM SpatialIndex\n",
    "    WHERE f_table_name = 'earthquakes' \n",
    "        AND search_frame = u.geom) group by u.stusps\"\"\"\n",
    "dat = pd.read_sql_query(stateDataSql,db)\n",
    "stateSql = \"\"\"SELECT stusps,st_asbinary(geom) as geom FROM us_states\"\"\"\n",
    "#df=pd.read_sql_query(sql,db)\n",
    "df = gpd.read_postgis(stateSql,db)\n",
    "dat = df[['stusps']].merge(dat,on='stusps',how='left').fillna(0)\n",
    "dat =  dict(zip(dat['stusps'].tolist(), dat['total_earthquakes'].tolist()))\n",
    "jsondata = json.loads(df.to_json())\n",
    "for feature in jsondata['features']:\n",
    "    feature['id'] = feature['properties']['stusps']\n",
    "layer = Choropleth(\n",
    "    geo_data=jsondata,\n",
    "    choro_data=dat,\n",
    "    colormap=linear.OrRd_03,\n",
    "    border_color='black',\n",
    "    style={'fillOpacity': 0.8, 'dashArray': '5, 5'})\n",
    "sMap= Map(center=(41.482222, -81.669722), zoom=3,prefer_canvas =True)\n",
    "sMap.add_layer(layer)\n",
    "sMap"
   ]
  },
  {
   "cell_type": "markdown",
   "id": "456d2cd6",
   "metadata": {},
   "source": [
    "### Intersection Query"
   ]
  },
  {
   "cell_type": "markdown",
   "id": "278f5e63",
   "metadata": {},
   "source": [
    "#### Intersects"
   ]
  },
  {
   "cell_type": "markdown",
   "id": "32230124",
   "metadata": {},
   "source": [
    "First we look at how to use intersect function to check whether two geometries intersect.\n",
    "\n",
    "The function **st_intersects(geometry A,geometry B)** returns true if geometry A and geometry B intersect or touch at atleast a single point\n",
    "\n",
    "![LineIntersects](supplementary/images/intersect.png) "
   ]
  },
  {
   "cell_type": "markdown",
   "id": "7a98c326",
   "metadata": {},
   "source": [
    "A real world example would be to identify the houses that fall with in a hazard zone. We would not only want the houses that are with in the hazard zone but also the houses that has some portion of it inside the hazard zone\n",
    "\n",
    "![Hazard Zones](supplementary/images/hazard_zones.png) "
   ]
  },
  {
   "cell_type": "markdown",
   "id": "629adc80",
   "metadata": {},
   "source": [
    "Let's look at an interactive example. You can use either the line or the rectangle tool to draw your own geometry. The geometries (in this cases us_states) that intersects with the geometry you have drawn will be highlighted in green color. "
   ]
  },
  {
   "cell_type": "code",
   "execution_count": null,
   "id": "e1964e13",
   "metadata": {},
   "outputs": [],
   "source": [
    "from ipyleaflet import Map,DrawControl,GeoJSON,LayerGroup\n",
    "import geojson\n",
    "import json\n",
    "from shapely.geometry import shape\n",
    "import geopandas as gpd\n",
    "import numpy as np\n",
    "import time\n",
    "matching=[]\n",
    "def handle_draw(target, action, geo_json):\n",
    "    global matching\n",
    "    draw_group.clear_layers()\n",
    "    geo_dat = GeoJSON(data = geo_json)\n",
    "    draw_group.add_layer(geo_dat)\n",
    "    dc.clear()\n",
    "    g1 = geojson.loads(json.dumps(geo_json['geometry']))\n",
    "    g2 = shape(g1)\n",
    "    sql = f\"SELECT stusps from us_states u where st_intersects(u.geom,ST_TRANSFORM(ST_GeomFromText('{g2.wkt}',4326),4269))\"\n",
    "    pdf = pd.read_sql_query(sql, db)\n",
    "    matching = pdf.values\n",
    "    for layer in stateGroup.layers:\n",
    "        layer.style={'weight':2+np.random.random_sample()}\n",
    "    \n",
    "def styleChange(feature):\n",
    "    props=feature['properties']\n",
    "    if props['stusps'] in matching:\n",
    "        return {'opacity': 1, 'fillOpacity': 0, 'weight': 1,'color':'green'}\n",
    "    else:\n",
    "        return {'opacity': 0.3, 'fillOpacity': 0, 'weight': 1,'color':'red'}\n",
    "\n",
    "sMap= Map(center=(44.967243, -103.771556), zoom=8,prefer_canvas =True)\n",
    "sMap.fit_bounds(((24.1, -126.1), (49.9, -64.4)))\n",
    "dc = DrawControl(\n",
    "    marker={},\n",
    "    rectangle={\"shapeOptions\": {\"color\": \"#0000FF\",'fillOpacity':0}},\n",
    "    circle={},\n",
    "    circlemarker={},\n",
    "    polygon={}\n",
    ")\n",
    "dc.on_draw(handle_draw)\n",
    "sMap.add_control(dc)\n",
    "draw_group = LayerGroup()\n",
    "sMap.add_layer(draw_group)\n",
    "stateGroup = LayerGroup()\n",
    "sMap.add_layer(stateGroup)\n",
    "stateGeomSql = f\"SELECT stusps,ST_AsBinary(geom) as geom FROM us_states;\"\n",
    "gdf = gpd.GeoDataFrame.from_postgis(stateGeomSql, db,crs = 'EPSG:4269').to_crs('EPSG:4326')\n",
    "sMap.zoom = 6\n",
    "geo_data = GeoJSON(data = json.loads(gdf.to_json()),style={'opacity': 0.3, 'fillOpacity': 0, 'weight': 1,'color':'red'},style_callback=styleChange)\n",
    "stateGroup.add_layer(geo_data)\n",
    "sMap"
   ]
  },
  {
   "cell_type": "markdown",
   "id": "28c95528",
   "metadata": {},
   "source": [
    "#### Intersection"
   ]
  },
  {
   "cell_type": "markdown",
   "id": "4c7bbcf8",
   "metadata": {},
   "source": [
    "While intersects check whether two geometries intersect, intersection returns the geometry shared by the two geometries.\n",
    "\n",
    "The function **st_intersection(geometry A,geometry B)** returns the geometry shared by geometry A and geometry B\n",
    "\n",
    "![LineIntersection](supplementary/images/intersection.png) "
   ]
  },
  {
   "cell_type": "markdown",
   "id": "0dbab2ae",
   "metadata": {},
   "source": [
    "Now we will look at a concrete example of using st_intersection\n",
    "\n",
    "**Find total length of subway line in each neighborhood**\n",
    "\n",
    "![RoadIntersection](supplementary/images/intersection_example.png) "
   ]
  },
  {
   "cell_type": "markdown",
   "id": "4b04ccd0",
   "metadata": {},
   "source": [
    "Here we will use one more function **st_length(geometry)** for calculating the length of a geometry\n",
    "\n",
    "The function **st_length(geometry A)** returns the length of geometry A"
   ]
  },
  {
   "cell_type": "markdown",
   "id": "c7412673",
   "metadata": {},
   "source": [
    "The tables involved in this query"
   ]
  },
  {
   "cell_type": "code",
   "execution_count": null,
   "id": "b88d679c",
   "metadata": {},
   "outputs": [],
   "source": [
    "from ipywidgets import HBox, VBox,widgets,Layout,HTML\n",
    "from IPython.display import display\n",
    "db = spatialite.connect('databases/spatialDB.sqlite')\n",
    "table1 = pd.read_sql_query('select boroname,name,geom as geometry from nyc_neighborhoods limit 5',db)\n",
    "table2 = pd.read_sql_query('select pk_uid,geometry from nyc_subway_lines limit 5',db)\n",
    "table1_disp = widgets.Output()\n",
    "table2_disp = widgets.Output()\n",
    "table1_header = widgets.HTML(value = f\"<b><font color='red'><center>NYC_NEIGHBORHOODS</center></b>\")\n",
    "table2_header = widgets.HTML(value = f\"<b><font color='red'><center>NYC_SUBWAY_LINES</center></b>\")\n",
    "with table1_disp:\n",
    "    display(table1)\n",
    "with table2_disp:\n",
    "    display(table2)\n",
    "out=HBox([VBox([table1_header,table1_disp],layout = Layout(margin='0 100px 0 0')),VBox([table2_header,table2_disp])])\n",
    "out"
   ]
  },
  {
   "cell_type": "markdown",
   "id": "b754c81d",
   "metadata": {},
   "source": [
    "The required query\n",
    "\n",
    "```sql\n",
    "SELECT u.boroname,sum(ST_Length(st_intersection(u.geom,s.geometry))) as total_length from nyc_neighborhoods u,nyc_subway_lines s\n",
    " where st_intersects(u.geom,s.geometry) group by u.boroname\n",
    "```"
   ]
  },
  {
   "cell_type": "code",
   "execution_count": null,
   "id": "def3018c",
   "metadata": {
    "scrolled": true
   },
   "outputs": [],
   "source": [
    "disp = widgets.Output()\n",
    "db = spatialite.connect('databases/spatialDB.sqlite')\n",
    "stateGeomSql = f\"\"\"SELECT u.boroname,sum(ST_Length(st_intersection(u.geom,s.geometry))) as total_length from nyc_neighborhoods u,nyc_subway_lines s\n",
    " where st_intersects(u.geom,s.geometry) and s.rowid in(SELECT ROWID \n",
    "    FROM SpatialIndex\n",
    "    WHERE f_table_name = 'nyc_subway_lines' \n",
    "        AND search_frame = u.geom) group by u.boroname\"\"\"\n",
    "data = pd.read_sql_query(stateGeomSql,con=db)\n",
    "with disp:\n",
    "    display(data)\n",
    "disp"
   ]
  },
  {
   "cell_type": "markdown",
   "id": "a4a33bb1",
   "metadata": {},
   "source": [
    "### With in a Distance Queries"
   ]
  },
  {
   "cell_type": "markdown",
   "id": "cde6ab81",
   "metadata": {},
   "source": [
    "With in distance queries are used to find out geometrical objects that are with in a specific distance of a particular geometrical object."
   ]
  },
  {
   "cell_type": "markdown",
   "id": "22186533",
   "metadata": {},
   "source": [
    "![Withindistance_example](supplementary/images/withindistance.png)"
   ]
  },
  {
   "cell_type": "markdown",
   "id": "24583c94",
   "metadata": {},
   "source": [
    "![Withindistance](supplementary/images/distance_within_example.png) "
   ]
  },
  {
   "cell_type": "markdown",
   "id": "4e9ea924",
   "metadata": {},
   "source": [
    "#### Buffer"
   ]
  },
  {
   "cell_type": "markdown",
   "id": "85e18869",
   "metadata": {},
   "source": [
    "![Buffer](supplementary/images/buffer.png) "
   ]
  },
  {
   "cell_type": "markdown",
   "id": "64089559",
   "metadata": {},
   "source": [
    "The function **st_buffer(geometry A,distance)**  encircles geometry A at a specified **distance** and returns a geometry object that is the buffer that surrounds the source object (A)."
   ]
  },
  {
   "cell_type": "markdown",
   "id": "2d1f7317",
   "metadata": {},
   "source": [
    "Lets look at a concrete example \n",
    "\n",
    "**Number of homicides with in 100 meter radius of NYC substations**"
   ]
  },
  {
   "cell_type": "markdown",
   "id": "00c5f9f2",
   "metadata": {},
   "source": [
    "The required tables are"
   ]
  },
  {
   "cell_type": "code",
   "execution_count": null,
   "id": "374d9bb6",
   "metadata": {},
   "outputs": [],
   "source": [
    "from ipywidgets import HBox, VBox,widgets,Layout,HTML\n",
    "from IPython.display import display\n",
    "db = spatialite.connect('databases/spatialDB.sqlite')\n",
    "table1 = pd.read_sql_query('select pk_uid,name,geom as geometry from nyc_substations limit 5',db)\n",
    "table2 = pd.read_sql_query('select pk_uid,weapon,year,geom as geometry from nyc_homicides limit 5',db)\n",
    "table1_disp = widgets.Output()\n",
    "table2_disp = widgets.Output()\n",
    "table1_header = widgets.HTML(value = f\"<b><font color='red'><center>NYC_SUBSTATIONS</center></b>\")\n",
    "table2_header = widgets.HTML(value = f\"<b><font color='red'><center>NYC_HOMICIDES</center></b>\")\n",
    "with table1_disp:\n",
    "    display(table1)\n",
    "with table2_disp:\n",
    "    display(table2)\n",
    "out=HBox([VBox([table1_header,table1_disp],layout = Layout(margin='0 100px 0 0')),VBox([table2_header,table2_disp])])\n",
    "out"
   ]
  },
  {
   "cell_type": "markdown",
   "id": "5c1e03bd",
   "metadata": {},
   "source": [
    "And the query is \n",
    "\n",
    "```sql\n",
    "SELECT u.name,count(*) as total_homicides from nyc_substations u,\n",
    "nyc_homicides s where st_contains(st_buffer(u.geom,100),s.geom) group by u.name\n",
    "```"
   ]
  },
  {
   "cell_type": "code",
   "execution_count": null,
   "id": "f80b2cc7",
   "metadata": {},
   "outputs": [],
   "source": [
    "disp = widgets.Output()\n",
    "db = spatialite.connect('databases/spatialDB.sqlite')\n",
    "stateGeomSql = f\"\"\"SELECT u.name,count(*) as total_homicides from (select name,st_buffer(geom,100) as geom from nyc_substations) u,\n",
    "nyc_homicides s where st_contains(u.geom,s.geom) and s.rowid in(SELECT ROWID \n",
    "    FROM SpatialIndex\n",
    "    WHERE f_table_name = 'nyc_homicides' \n",
    "        and f_geometry_column = 'geom'\n",
    "        AND search_frame = u.geom)  group by u.name order by count(*) desc\"\"\"\n",
    "data = pd.read_sql_query(stateGeomSql,con=db)\n",
    "with disp:\n",
    "    display(data)\n",
    "disp"
   ]
  },
  {
   "cell_type": "markdown",
   "id": "9d325811",
   "metadata": {},
   "source": [
    "Let's look at another example \n",
    "\n",
    "**Number of shooting incidents with in 50 meter of schools**\n",
    "\n",
    "and the tables are "
   ]
  },
  {
   "cell_type": "code",
   "execution_count": null,
   "id": "5d6897e3",
   "metadata": {},
   "outputs": [],
   "source": [
    "from ipywidgets import HBox, VBox,widgets,Layout,HTML\n",
    "from IPython.display import display\n",
    "import spatialite\n",
    "import pandas as pd\n",
    "db = spatialite.connect('databases/spatialDB.sqlite')\n",
    "table1 = pd.read_sql_query('select pk_uid,schoolname,sch_type,geometry from nyc_schools limit 5',db)\n",
    "table2 = pd.read_sql_query('select pk_uid,geometry from nyc_shooting limit 5',db)\n",
    "table1_disp = widgets.Output()\n",
    "table2_disp = widgets.Output()\n",
    "table1_header = widgets.HTML(value = f\"<b><font color='red'><center>NYC_SCHOOLS</center></b>\")\n",
    "table2_header = widgets.HTML(value = f\"<b><font color='red'><center>NYC_SHOOTING</center></b>\")\n",
    "with table1_disp:\n",
    "    display(table1)\n",
    "with table2_disp:\n",
    "    display(table2)\n",
    "out=HBox([VBox([table1_header,table1_disp],layout = Layout(margin='0 100px 0 0')),VBox([table2_header,table2_disp])])\n",
    "out"
   ]
  },
  {
   "cell_type": "markdown",
   "id": "34cddbfb",
   "metadata": {},
   "source": [
    "And the query"
   ]
  },
  {
   "cell_type": "markdown",
   "id": "8371ec64",
   "metadata": {},
   "source": [
    "```sql\n",
    "SELECT a.schoolname,count(*) as total_shooting_incidents from nyc_shooting u,nyc_schools a\n",
    " where st_contains(st_buffer(a.geom,50),u.geometry) group by a.schoolname\n",
    "```"
   ]
  },
  {
   "cell_type": "code",
   "execution_count": null,
   "id": "b9e3179d",
   "metadata": {},
   "outputs": [],
   "source": [
    "disp = widgets.Output()\n",
    "db = spatialite.connect('databases/spatialDB.sqlite')\n",
    "stateGeomSql = f\"\"\"WITH a AS (select schoolname,st_buffer(geometry,50) as geom from nyc_schools)\n",
    "SELECT a.schoolname,count(*) as total_shooting_incidents from nyc_shooting u,a\n",
    " where st_contains(a.geom,u.geometry) and u.rowid in(SELECT ROWID \n",
    "    FROM SpatialIndex\n",
    "    WHERE f_table_name = 'nyc_shooting' \n",
    "        and f_geometry_column = 'geometry'\n",
    "        AND search_frame = a.geom)   group by a.schoolname order by count(*) desc\"\"\"\n",
    "data = pd.read_sql_query(stateGeomSql,con=db)\n",
    "with disp:\n",
    "    display(data)\n",
    "disp"
   ]
  },
  {
   "cell_type": "markdown",
   "id": "fe3a7f10",
   "metadata": {},
   "source": [
    "Let's look at another example\n",
    "\n",
    "**How many hospitals are there with in a specific distance of where you are**\n",
    "\n",
    "The required tables"
   ]
  },
  {
   "cell_type": "code",
   "execution_count": null,
   "id": "15ed7223",
   "metadata": {},
   "outputs": [],
   "source": [
    "from ipywidgets import HBox, VBox,widgets,Layout,HTML\n",
    "from IPython.display import display\n",
    "import spatialite\n",
    "import pandas as pd\n",
    "db = spatialite.connect('databases/spatialDB.sqlite')\n",
    "table1 = pd.read_sql_query('select pk_uid,geom as geometry from hospitals limit 5',db)\n",
    "table1_disp = widgets.Output()\n",
    "table1_header = widgets.HTML(value = f\"<b><font color='red'><center>HOSPITALS</center></b>\")\n",
    "with table1_disp:\n",
    "    display(table1)\n",
    "out=HBox([VBox([table1_header,table1_disp],layout = Layout(margin='0 100px 0 0'))])\n",
    "out"
   ]
  },
  {
   "cell_type": "markdown",
   "id": "f07c1a21",
   "metadata": {},
   "source": [
    "Let's look at an interactive example. Double click anywhere on the map and it will be selected as the current location. Based on the slider value selected (default is 3000 meter). You can change the slider to change the buffer value"
   ]
  },
  {
   "cell_type": "code",
   "execution_count": null,
   "id": "ce1a2f49",
   "metadata": {},
   "outputs": [],
   "source": [
    "from ipyleaflet import Map, DrawControl,GeoData,LayerGroup,Polygon,GeoJSON,Marker\n",
    "from ipywidgets import Button, HBox, VBox,widgets,Layout,GridspecLayout,IntSlider,HTML\n",
    "from IPython.display import display\n",
    "import spatialite\n",
    "import pandas as pd\n",
    "import geopandas as gpd\n",
    "import json\n",
    "import time\n",
    "db = spatialite.connect('databases/spatialDB.sqlite')\n",
    "coords=None\n",
    "\n",
    "def handle_click(**kwargs):\n",
    "    global coords\n",
    "    if kwargs.get('type') == 'dblclick':\n",
    "        layer_group.clear_layers()\n",
    "        coords = kwargs.get('coordinates')\n",
    "        layer_group.add_layer(Marker(location=coords))\n",
    "        findHospitals()\n",
    "        \n",
    "def findHospitals():\n",
    "    global coords\n",
    "    if coords is not None:\n",
    "        stateGeomSql = f\"\"\"SELECT st_asbinary(u.geom) as geom from hospitals u\n",
    " where st_contains(st_buffer(st_transform(MakePoint({coords[1]},{coords[0]},4326),3857),{radiusSlider.value}),\n",
    " st_transform(u.geom,3857))\"\"\"\n",
    "        gdf = gpd.GeoDataFrame.from_postgis(stateGeomSql, db,crs = 'EPSG:4326')\n",
    "        if len(gdf)!=0:\n",
    "            \n",
    "            geo_data = GeoData(geo_dataframe = gdf,\n",
    "                style={'color': 'black', 'radius':8, 'fillColor': '#3366cc', 'opacity':0.5, 'weight':1.9, 'dashArray':'2', 'fillOpacity':0.6},\n",
    "                hover_style={'fillColor': 'red' , 'fillOpacity': 0.2},\n",
    "                point_style={'radius': 5, 'color': 'red', 'fillOpacity': 0.8, 'fillColor': 'blue', 'weight': 3},\n",
    "                name = 'Release')\n",
    "            layer_group.add_layer(geo_data)\n",
    "            center = [gdf.centroid.y.values[0],gdf.centroid.x.values[0]]\n",
    "            sMap.center = center\n",
    "            sMap.zoom = 12\n",
    "\n",
    "def radiusChanged(slider):\n",
    "    findHospitals()\n",
    "        \n",
    "sMap= Map(center=(41.482222, -81.669722), zoom=15,prefer_canvas =True)\n",
    "\n",
    "radiusSlider = widgets.IntSlider(\n",
    "    value=3000,\n",
    "    min=0,\n",
    "    max=100000,\n",
    "    step=500,\n",
    "    description='Radius:',\n",
    "    disabled=False,\n",
    "    continuous_update=False,\n",
    "    orientation='horizontal',\n",
    "    readout=True,\n",
    "    readout_format='d'\n",
    ")\n",
    "\n",
    "radiusSlider.observe(radiusChanged, 'value')\n",
    "layer_group = LayerGroup()\n",
    "sMap.add_layer(layer_group)\n",
    "sMap.on_interaction(handle_click)\n",
    "filterParams=HBox([sMap,VBox([radiusSlider])])\n",
    "filterParams"
   ]
  },
  {
   "cell_type": "markdown",
   "id": "51496eae",
   "metadata": {},
   "source": [
    "### Distance Function"
   ]
  },
  {
   "cell_type": "markdown",
   "id": "c3e603e2",
   "metadata": {},
   "source": [
    "The distance function is used to find the distance between two geometries\n",
    "\n",
    "The function **st_distance(geometry A,geometry B)** returns the distance between geometry A and geometry B\n",
    "\n",
    "![DistanceRestaurant](supplementary/images/distance_restaurant_example.png) "
   ]
  },
  {
   "cell_type": "markdown",
   "id": "795e5c60",
   "metadata": {},
   "source": [
    "Let's look at an example \n",
    "\n",
    "**Show five nearest tourist place from your current location**\n",
    "\n",
    "The required tables"
   ]
  },
  {
   "cell_type": "code",
   "execution_count": null,
   "id": "0eb0b5d1",
   "metadata": {},
   "outputs": [],
   "source": [
    "from ipywidgets import HBox, VBox,widgets,Layout,HTML\n",
    "from IPython.display import display\n",
    "import spatialite\n",
    "import pandas as pd\n",
    "db = spatialite.connect('databases/spatialDB.sqlite')\n",
    "table1 = pd.read_sql_query('select pk_uid,geom as geometry from toUrism limit 5',db)\n",
    "table1_disp = widgets.Output()\n",
    "table1_header = widgets.HTML(value = f\"<b><font color='red'><center>TOURISM</center></b>\")\n",
    "with table1_disp:\n",
    "    display(table1)\n",
    "out=HBox([VBox([table1_header,table1_disp],layout = Layout(margin='0 100px 0 0'))])\n",
    "out"
   ]
  },
  {
   "cell_type": "code",
   "execution_count": null,
   "id": "ceaa1247",
   "metadata": {},
   "outputs": [],
   "source": [
    "from ipyleaflet import Map, DrawControl,GeoData,LayerGroup,Polygon,GeoJSON,Marker\n",
    "from ipywidgets import Button, HBox, VBox,widgets,Layout,GridspecLayout,IntSlider,HTML\n",
    "from IPython.display import display\n",
    "import spatialite\n",
    "import pandas as pd\n",
    "import geopandas as gpd\n",
    "import json\n",
    "import time\n",
    "db = spatialite.connect('databases/spatialDB.sqlite')\n",
    "coords=None\n",
    "\n",
    "def handle_click(**kwargs):\n",
    "    global coords\n",
    "    if kwargs.get('type') == 'dblclick':\n",
    "        layer_group.clear_layers()\n",
    "        coords = kwargs.get('coordinates')\n",
    "        layer_group.add_layer(Marker(location=coords))\n",
    "        findNearestTouristPlaces()\n",
    "        \n",
    "def findNearestTouristPlaces():\n",
    "    global coords\n",
    "    if coords is not None:\n",
    "        stateGeomSql = f\"\"\"SELECT u.pk_uid,st_asbinary(u.geom) as geom,st_distance(st_transform(u.geom,3857),\n",
    "        st_transform(MakePoint({coords[1]},{coords[0]},4326),3857)) as \n",
    "        dist_to_tourist from tourism u order by dist_to_tourist asc limit 5\"\"\"\n",
    "        gdf = gpd.GeoDataFrame.from_postgis(stateGeomSql, db,crs = 'EPSG:4326')\n",
    "        geo_data = GeoData(geo_dataframe = gdf,\n",
    "            style={'color': 'black', 'radius':8, 'fillColor': '#3366cc', 'opacity':0.5, 'weight':1.9, 'dashArray':'2', 'fillOpacity':0.6},\n",
    "            hover_style={'fillColor': 'red' , 'fillOpacity': 0.2},\n",
    "            point_style={'radius': 5, 'color': 'red', 'fillOpacity': 0.8, 'fillColor': 'blue', 'weight': 3},\n",
    "            name = 'Release')\n",
    "        layer_group.add_layer(geo_data)\n",
    "        center = [gdf.centroid.y.values[0],gdf.centroid.x.values[0]]\n",
    "        sMap.center = center\n",
    "        sMap.zoom = 12\n",
    "\n",
    "sMap= Map(center=(41.482222, -81.669722), zoom=15,prefer_canvas =True)\n",
    "layer_group = LayerGroup()\n",
    "sMap.add_layer(layer_group)\n",
    "sMap.on_interaction(handle_click)\n",
    "sMap"
   ]
  },
  {
   "cell_type": "markdown",
   "id": "5aeb3dea",
   "metadata": {},
   "source": [
    "And one final example\n",
    "\n",
    "**Show five nearest gas stations from your current location**\n",
    "\n",
    "The required table"
   ]
  },
  {
   "cell_type": "code",
   "execution_count": null,
   "id": "927d7bac",
   "metadata": {},
   "outputs": [],
   "source": [
    "from ipywidgets import HBox, VBox,widgets,Layout,HTML\n",
    "from IPython.display import display\n",
    "import spatialite\n",
    "import pandas as pd\n",
    "db = spatialite.connect('databases/spatialDB.sqlite')\n",
    "table1 = pd.read_sql_query('select pk_uid,geom from gas_stationS limit 5',db)\n",
    "table1_disp = widgets.Output()\n",
    "table1_header = widgets.HTML(value = f\"<b><font color='red'><center>GAS_STATIONS</center></b>\")\n",
    "with table1_disp:\n",
    "    display(table1)\n",
    "out=HBox([VBox([table1_header,table1_disp],layout = Layout(margin='0 100px 0 0'))])\n",
    "out"
   ]
  },
  {
   "cell_type": "code",
   "execution_count": null,
   "id": "bc35809d",
   "metadata": {
    "scrolled": true
   },
   "outputs": [],
   "source": [
    "from ipyleaflet import Map, DrawControl,GeoData,LayerGroup,Polygon,GeoJSON,Marker\n",
    "from ipywidgets import Button, HBox, VBox,widgets,Layout,GridspecLayout,IntSlider,HTML\n",
    "from IPython.display import display\n",
    "import spatialite\n",
    "import pandas as pd\n",
    "import geopandas as gpd\n",
    "import json\n",
    "import time\n",
    "db = spatialite.connect('databases/spatialDB.sqlite')\n",
    "coords=None\n",
    "\n",
    "def handle_click(**kwargs):\n",
    "    global coords\n",
    "    if kwargs.get('type') == 'dblclick':\n",
    "        layer_group.clear_layers()\n",
    "        coords = kwargs.get('coordinates')\n",
    "        layer_group.add_layer(Marker(location=coords))\n",
    "        findNearestGasStation()\n",
    "        \n",
    "def findNearestGasStation():\n",
    "    global coords\n",
    "    if coords is not None:\n",
    "        stateGeomSql = f\"\"\"SELECT u.pk_uid,st_asbinary(u.geom) as geom,st_distance(u.geom,\n",
    "        MakePoint({coords[1]},{coords[0]},4326)) as \n",
    "        dist_to_gas_station from gas_stations u order by dist_to_gas_station asc limit 5\"\"\"\n",
    "        gdf = gpd.GeoDataFrame.from_postgis(stateGeomSql, db,crs = 'EPSG:4326')\n",
    "        geo_data = GeoData(geo_dataframe = gdf,\n",
    "            style={'color': 'black', 'radius':8, 'fillColor': '#3366cc', 'opacity':0.5, 'weight':1.9, 'dashArray':'2', 'fillOpacity':0.6},\n",
    "            hover_style={'fillColor': 'red' , 'fillOpacity': 0.2},\n",
    "            point_style={'radius': 5, 'color': 'red', 'fillOpacity': 0.8, 'fillColor': 'blue', 'weight': 3},\n",
    "            name = 'Release')\n",
    "        layer_group.add_layer(geo_data)\n",
    "        center = [gdf.centroid.y.values[0],gdf.centroid.x.values[0]]\n",
    "        sMap.center = center\n",
    "        sMap.zoom = 12\n",
    "        \n",
    "sMap= Map(center=(41.482222, -81.669722), zoom=15,prefer_canvas =True)\n",
    "layer_group = LayerGroup()\n",
    "sMap.add_layer(layer_group)\n",
    "sMap.on_interaction(handle_click)\n",
    "sMap"
   ]
  }
 ],
 "metadata": {
  "celltoolbar": "Edit Metadata",
  "kernelspec": {
   "display_name": "Python 3",
   "language": "python",
   "name": "python3"
  },
  "language_info": {
   "codemirror_mode": {
    "name": "ipython",
    "version": 3
   },
   "file_extension": ".py",
   "mimetype": "text/x-python",
   "name": "python",
   "nbconvert_exporter": "python",
   "pygments_lexer": "ipython3",
   "version": "3.8.1"
  },
  "rise": {
   "autolaunch": true,
   "overlay": "<div class='hciheader'></div><div class='hcifooter'></div>",
   "scroll": true
  }
 },
 "nbformat": 4,
 "nbformat_minor": 5
}
